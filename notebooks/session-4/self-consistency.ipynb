{
 "cells": [
  {
   "cell_type": "markdown",
   "metadata": {},
   "source": [
    "## ML Paper Tagger\n",
    "\n",
    "Here what's provided in the notebook:\n",
    "- Compares zero-shot, few-shot, CoT, and self-consistency\n",
    "- Evaluates using an LLM evaluator using LangChain"
   ]
  },
  {
   "cell_type": "code",
   "execution_count": 9,
   "metadata": {},
   "outputs": [
    {
     "data": {
      "text/plain": [
       "True"
      ]
     },
     "execution_count": 9,
     "metadata": {},
     "output_type": "execute_result"
    }
   ],
   "source": [
    "import openai\n",
    "import os\n",
    "import IPython\n",
    "import json\n",
    "import pandas as pd\n",
    "from langchain.llms import OpenAI\n",
    "from langchain.prompts.few_shot import FewShotPromptTemplate\n",
    "from langchain.prompts.prompt import PromptTemplate\n",
    "from langchain.prompts.example_selector.base import BaseExampleSelector\n",
    "from langchain.chains import LLMChain\n",
    "from langchain.evaluation.qa import QAEvalChain\n",
    "from typing import Dict, List\n",
    "import numpy as np\n",
    "from dotenv import load_dotenv\n",
    "load_dotenv()"
   ]
  },
  {
   "cell_type": "markdown",
   "metadata": {},
   "source": [
    "### Load Data"
   ]
  },
  {
   "cell_type": "code",
   "execution_count": 6,
   "metadata": {},
   "outputs": [],
   "source": [
    "# set the API key\n",
    "os.environ[\"OPENAI_API_KEY\"] = os.getenv(\"OPENAI_API_KEY\")\n",
    "\n",
    "# create a new LLM\n",
    "from langchain.llms import OpenAI\n",
    "llm  = OpenAI(model_name=\"text-davinci-003\")\n",
    "\n",
    "def print_markdown(text):\n",
    "    \"\"\"Prints text as markdown\"\"\"\n",
    "    IPython.display.display(IPython.display.Markdown(text))\n",
    "\n",
    "# load json data at path: data/article-tags.json into a dataframe\n",
    "with open('../data/article-tags.json') as f:\n",
    "    val_data = json.load(f)\n",
    "\n",
    "with open('../data/few_shot.json') as f:\n",
    "    few_shot_data = json.load(f)"
   ]
  },
  {
   "cell_type": "markdown",
   "metadata": {},
   "source": [
    "### Few-Shot"
   ]
  },
  {
   "cell_type": "code",
   "execution_count": 7,
   "metadata": {},
   "outputs": [],
   "source": [
    "# customer example selector\n",
    "\n",
    "class CustomExampleSelector(BaseExampleSelector):\n",
    "    \n",
    "    def __init__(self, examples: List[Dict[str, str]]):\n",
    "        self.examples = examples\n",
    "    \n",
    "    def add_example(self, example: Dict[str, str]) -> None:\n",
    "        \"\"\"Add new example to store for a key.\"\"\"\n",
    "        self.examples.append(example)\n",
    "\n",
    "    def select_examples(self, size) -> List[dict]:\n",
    "        \"\"\"Select which examples to use based on the inputs.\"\"\"\n",
    "        return np.random.choice(self.examples, size=size, replace=False)\n",
    "    \n",
    "\n",
    "example_selector = CustomExampleSelector(few_shot_data)\n",
    "\n",
    "template = \"\"\"\n",
    "Abstract: {abstract}\n",
    "Tags: {tags}\n",
    "\"\"\"\n",
    "\n",
    "prompt = PromptTemplate(\n",
    "    input_variables=[\"abstract\", \"tags\"],\n",
    "    template=template\n",
    ")\n",
    "\n",
    "few_shot_prompt = FewShotPromptTemplate(\n",
    "    examples = list(example_selector.select_examples(3)),\n",
    "    example_prompt=prompt,\n",
    "    prefix = \"Your task is to extract model names from machine learning paper abstracts. Your response is an an array of the model names in the format [\\\"model_name\\\"]. If you don't find model names in the abstract or you are not sure, return [\\\"NA\\\"]\",\n",
    "    suffix = \"Abstract: {input}\\nTags:\",\n",
    "    input_variables=[\"input\"],\n",
    "    example_separator=\"\\n\\n\" \n",
    "\n",
    ")"
   ]
  },
  {
   "cell_type": "markdown",
   "metadata": {},
   "source": [
    "### Zero-Shot"
   ]
  },
  {
   "cell_type": "code",
   "execution_count": 11,
   "metadata": {},
   "outputs": [],
   "source": [
    "# zero-shot prompt\n",
    "zero_shot_template = \"\"\"\n",
    "Your task is extract model names from machine learning paper abstracts. Your response is an an array of the model names in the format [\\\"model_name\\\"]. If you don't find model names in the abstract or you are not sure, return [\\\"NA\\\"]\n",
    "\n",
    "Abstract: {abstract}\n",
    "Tags:\n",
    "\"\"\"\n",
    "\n",
    "zero_shot_prompt = PromptTemplate(\n",
    "    input_variables=[\"abstract\"],\n",
    "    template=zero_shot_template\n",
    ")"
   ]
  },
  {
   "cell_type": "markdown",
   "metadata": {},
   "source": [
    "### Self-Consistency with Zero-shot CoT"
   ]
  },
  {
   "cell_type": "code",
   "execution_count": 22,
   "metadata": {},
   "outputs": [],
   "source": [
    "# call as a batch to get separate responses from the model\n",
    "\n",
    "# zero-shot prompt\n",
    "self_consistency_template = \"\"\"\n",
    "Your task is extract model names from machine learning paper abstracts delimited by ```. Your response is an an array of the model names in the format [\\\"model_name\\\"]. If you don't find model names in the abstract or you are not sure, return [\\\"NA\\\"]\n",
    "\n",
    "Let's think step by step: <steps>\n",
    "Abstract: ```{abstract}```\n",
    "Tags (should just output the model names in an array):\n",
    "\"\"\"\n",
    "\n",
    "self_consistency_prompt = PromptTemplate(\n",
    "    input_variables=[\"abstract\"],\n",
    "    template=self_consistency_template\n",
    ")"
   ]
  },
  {
   "cell_type": "markdown",
   "metadata": {},
   "source": [
    "### Evaluation"
   ]
  },
  {
   "cell_type": "code",
   "execution_count": 23,
   "metadata": {},
   "outputs": [],
   "source": [
    "zero_chain = LLMChain(llm=llm, prompt=zero_shot_prompt)\n",
    "few_shot_chain = LLMChain(llm=llm, prompt=few_shot_prompt)\n",
    "self_consistency_chain = LLMChain(llm=llm, prompt=self_consistency_prompt)"
   ]
  },
  {
   "cell_type": "code",
   "execution_count": 15,
   "metadata": {},
   "outputs": [],
   "source": [
    "# extract the abstracts from val_data\n",
    "abstracts = [{\"input\": val_data[i][\"abstract\"]} for i in range(len(val_data))]"
   ]
  },
  {
   "cell_type": "code",
   "execution_count": 18,
   "metadata": {},
   "outputs": [],
   "source": [
    "# few-shot predictions\n",
    "few_shot_predictions = few_shot_chain.apply(abstracts)\n",
    "\n",
    "# zero-shot predictions\n",
    "zero_shot_predictions = zero_chain.apply(val_data)"
   ]
  },
  {
   "cell_type": "code",
   "execution_count": 51,
   "metadata": {},
   "outputs": [
    {
     "name": "stdout",
     "output_type": "stream",
     "text": [
      "[{\"text\": '[\"LLM\", \"Evol-Instruct\", \"LLaMA\", \"WizardLM\", \"OpenAI ChatGPT\"]'}, {\"text\": '[\"FLAN-T5\", \"AMR2.0\", \"AMR3.0\", \"BioAMR\", \"LoRA\"]'}, {\"text\": '[\"NA\"]'}, {\"text\": '[\"QA systems\", \"zero-shot methods\", \"question generation (QG) model\", \"annotation projection\", \"lexically-constrained machine translation\", \"extractive QA models\"]'}, {\"text\": '[\"ChatGPT\"]'}, {\"text\": '[\"ViT model\", \"OpenCLIP\"]'}, {\"text\": '[\"Segment-Anything Model (SAM)\", \"Stable Diffusion\", \"AIGC\"]'}, {\"text\": '[\"BLIP model\", \"Segment-Anything model\", \"Text-to-Image Diffusion model\"]'}, {\"text\": '[\"Chameleon\", \"GPT-4\", \"ScienceQA\", \"TabMWP\", \"ChatGPT\"]'}, {\"text\": '[\"NA\"]'}]\n"
     ]
    }
   ],
   "source": [
    "# self-consistency predictions\n",
    "num_of_samples = 5\n",
    "len_of_abstracts = len(abstracts)\n",
    "output_format = \"\"\"[{\"text\": '[<model_names>]'}, {\"text\": '[<model_names>]'}, ...]\"\"\"\n",
    "\n",
    "self_consistency_samples = [self_consistency_chain.apply(val_data) for i in range(num_of_samples)]\n",
    "\n",
    "def get_model_names(samples):\n",
    "    response = openai.ChatCompletion.create(\n",
    "        model=\"gpt-3.5-turbo\",\n",
    "        messages=[\n",
    "            {\n",
    "            \"role\": \"system\",\n",
    "            \"content\": \"\"\"You are given an array of outputs (delimited by ####) generated by a model. \\n\\nThe outputs contain a list of model names the model generated for {len_of_abstracts} different abstracts. There are {num_of_samples} different samples in the data.\\n\\nYour task is to pick the most common and consistent output from the {num_of_samples} different samples, corresponding to each of the 10 different abstracts. \\n\\nOutput format should be {output_format}\"\"\".format(len_of_abstracts=len_of_abstracts, num_of_samples=num_of_samples, output_format=output_format)\n",
    "            },\n",
    "            {\n",
    "            \"role\": \"user\",\n",
    "            \"content\": \"\"\"####\\n{samples}\\n####\"\"\".format(samples=self_consistency_samples)\n",
    "            }\n",
    "        ],\n",
    "        temperature=0,\n",
    "        max_tokens=256,\n",
    "        frequency_penalty=0,\n",
    "        presence_penalty=0\n",
    "    )\n",
    "\n",
    "    return response.choices[0].message[\"content\"]\n",
    "\n",
    "# get the model names\n",
    "self_consistency_predictions = get_model_names(self_consistency_samples)\n",
    "\n",
    "print(self_consistency_predictions)"
   ]
  },
  {
   "cell_type": "code",
   "execution_count": 53,
   "metadata": {},
   "outputs": [],
   "source": [
    "# Convert self_consistency_predictions to list of objects\n",
    "\n",
    "final_self_consistency_predictions = eval(self_consistency_predictions)"
   ]
  },
  {
   "cell_type": "markdown",
   "metadata": {},
   "source": [
    "### LLM Evaluator"
   ]
  },
  {
   "cell_type": "code",
   "execution_count": 56,
   "metadata": {},
   "outputs": [],
   "source": [
    "# evaluation chain from LangChain (using an LLM to evaluate)\n",
    "\n",
    "eval_chain = QAEvalChain.from_llm(llm)\n",
    "\n",
    "zero_shot_graded_outputs = eval_chain.evaluate(val_data, zero_shot_predictions, question_key=\"abstract\", prediction_key=\"text\", answer_key=\"tags\")\n",
    "\n",
    "fw_graded_ouputs = eval_chain.evaluate(val_data, few_shot_predictions, question_key=\"abstract\", prediction_key=\"text\", answer_key=\"tags\")\n",
    "\n",
    "self_consistency_graded_outputs = eval_chain.evaluate(val_data, final_self_consistency_predictions, question_key=\"abstract\", prediction_key=\"text\", answer_key=\"tags\")"
   ]
  },
  {
   "cell_type": "code",
   "execution_count": 57,
   "metadata": {},
   "outputs": [
    {
     "name": "stdout",
     "output_type": "stream",
     "text": [
      "Example 0:\n",
      "Real Answer: ['LLaMA', 'ChatGPT', 'WizardLM']\n",
      "Zero-shot Predicted Answer: \n",
      "[\"Evol-Instruct\", \"LLaMA\", \"WizardLM\", \"ChatGPT\"]\n",
      "Zero-shot Predicted Grade:  INCORRECT\n",
      "Few-shot Predicted Answer:  ['Evol-Instruct', 'WizardLM', 'ChatGPT']\n",
      "Few-shot Predicted Grade:  INCORRECT\n",
      "Self-consistency Predicted Answer: [\"LLM\", \"Evol-Instruct\", \"LLaMA\", \"WizardLM\", \"OpenAI ChatGPT\"]\n",
      "Self-consistency Predicted Grade:  INCORRECT\n",
      "\n",
      "Example 1:\n",
      "Real Answer: ['FLAN-T5', 'FLAN']\n",
      "Zero-shot Predicted Answer: \n",
      "[\"FLAN-T5\", \"AMR2.0\", \"AMR3.0\", \"BioAMR\", \"LoRA\"]\n",
      "Zero-shot Predicted Grade:  INCORRECT\n",
      "Few-shot Predicted Answer:  ['FLAN-T5', 'LoRA']\n",
      "Few-shot Predicted Grade:  INCORRECT\n",
      "Self-consistency Predicted Answer: [\"FLAN-T5\", \"AMR2.0\", \"AMR3.0\", \"BioAMR\", \"LoRA\"]\n",
      "Self-consistency Predicted Grade:  INCORRECT\n",
      "\n",
      "Example 2:\n",
      "Real Answer: ['NA']\n",
      "Zero-shot Predicted Answer: [\"NA\"]\n",
      "Zero-shot Predicted Grade:  CORRECT\n",
      "Few-shot Predicted Answer:  ['NA']\n",
      "Few-shot Predicted Grade:  CORRECT\n",
      "Self-consistency Predicted Answer: [\"NA\"]\n",
      "Self-consistency Predicted Grade:  CORRECT\n",
      "\n",
      "Example 3:\n",
      "Real Answer: ['PAXQA']\n",
      "Zero-shot Predicted Answer: \n",
      "[\"PAXQA\", \"QG model\", \"annotation projection\", \"lexically-constrained machine translation\", \"extractive QA models\"]\n",
      "Zero-shot Predicted Grade:  INCORRECT\n",
      "Few-shot Predicted Answer:  ['PAXQA', 'QG']\n",
      "Few-shot Predicted Grade:  INCORRECT\n",
      "Self-consistency Predicted Answer: [\"QA systems\", \"zero-shot methods\", \"question generation (QG) model\", \"annotation projection\", \"lexically-constrained machine translation\", \"extractive QA models\"]\n",
      "Self-consistency Predicted Grade:  INCORRECT\n",
      "\n",
      "Example 4:\n",
      "Real Answer: ['ChatGPT']\n",
      "Zero-shot Predicted Answer: [\"ChatGPT\"]\n",
      "Zero-shot Predicted Grade:  CORRECT\n",
      "Few-shot Predicted Answer:  ['ChatGPT']\n",
      "Few-shot Predicted Grade:  CORRECT\n",
      "Self-consistency Predicted Answer: [\"ChatGPT\"]\n",
      "Self-consistency Predicted Grade:  CORRECT\n",
      "\n",
      "Example 5:\n",
      "Real Answer: ['OpenCLIP', 'ViT']\n",
      "Zero-shot Predicted Answer: [\"ViT model\", \"OpenCLIP\"]\n",
      "Zero-shot Predicted Grade:  INCORRECT\n",
      "Few-shot Predicted Answer:  ['ViT', 'OpenCLIP']\n",
      "Few-shot Predicted Grade:  INCORRECT\n",
      "Self-consistency Predicted Answer: [\"ViT model\", \"OpenCLIP\"]\n",
      "Self-consistency Predicted Grade:  INCORRECT\n",
      "\n",
      "Example 6:\n",
      "Real Answer: ['SAM', 'IA']\n",
      "Zero-shot Predicted Answer: \n",
      "[\"Segment-Anything Model (SAM)\", \"AIGC models\", \"Stable Diffusion\"]\n",
      "Zero-shot Predicted Grade:  INCORRECT\n",
      "Few-shot Predicted Answer:  ['Inpaint Anything (IA)', 'SAM', 'Stable Diffusion', 'AIGC']\n",
      "Few-shot Predicted Grade:  INCORRECT\n",
      "Self-consistency Predicted Answer: [\"Segment-Anything Model (SAM)\", \"Stable Diffusion\", \"AIGC\"]\n",
      "Self-consistency Predicted Grade:  INCORRECT\n",
      "\n",
      "Example 7:\n",
      "Real Answer: ['Anything-3D', 'BLIP', 'Segment-Anything']\n",
      "Zero-shot Predicted Answer: \n",
      "[\"BLIP model\", \"Segment-Anything model\", \"text-to-image diffusion model\", \"Anything-3D\"]\n",
      "Zero-shot Predicted Grade:  CORRECT\n",
      "Few-shot Predicted Answer:  ['Anything-3D', 'BLIP', 'Segment-Anything', 'text-to-image diffusion model']\n",
      "Few-shot Predicted Grade:  CORRECT\n",
      "Self-consistency Predicted Answer: [\"BLIP model\", \"Segment-Anything model\", \"Text-to-Image Diffusion model\"]\n",
      "Self-consistency Predicted Grade:  CORRECT\n",
      "\n",
      "Example 8:\n",
      "Real Answer: ['Chameleon', 'GPT-4', 'ChatGPT']\n",
      "Zero-shot Predicted Answer: \n",
      "[\"GPT-4\", \"ChatGPT\", \"ScienceQA\", \"TabMWP\"]\n",
      "Zero-shot Predicted Grade:  INCORRECT\n",
      "Few-shot Predicted Answer:  ['Chameleon', 'GPT-4', 'ChatGPT']\n",
      "Few-shot Predicted Grade:  CORRECT\n",
      "Self-consistency Predicted Answer: [\"Chameleon\", \"GPT-4\", \"ScienceQA\", \"TabMWP\", \"ChatGPT\"]\n",
      "Self-consistency Predicted Grade:  INCORRECT\n",
      "\n",
      "Example 9:\n",
      "Real Answer: ['NA']\n",
      "Zero-shot Predicted Answer: \n",
      "[\"Tool Learning\", \"Foundation Models\", \"Tool-Augmented Learning\", \"Tool-Oriented Learning\", \"NA\"]\n",
      "Zero-shot Predicted Grade:  INCORRECT\n",
      "Few-shot Predicted Answer:  ['NA']\n",
      "Few-shot Predicted Grade:  INCORRECT\n",
      "Self-consistency Predicted Answer: [\"NA\"]\n",
      "Self-consistency Predicted Grade:  CORRECT\n",
      "\n"
     ]
    }
   ],
   "source": [
    "for i, eg in enumerate(val_data):\n",
    "    print(f\"Example {i}:\")\n",
    "    #print(\"Question: \" + eg['abstract'])\n",
    "    print(\"Real Answer: \" + str(eg['tags']))\n",
    "    print(\"Zero-shot Predicted Answer: \" + zero_shot_predictions[i]['text'])\n",
    "    print(\"Zero-shot Predicted Grade: \" + zero_shot_graded_outputs[i]['text'])\n",
    "    print(\"Few-shot Predicted Answer: \" + few_shot_predictions[i]['text'])\n",
    "    print(\"Few-shot Predicted Grade: \" + fw_graded_ouputs[i]['text'])\n",
    "    print(\"Self-consistency Predicted Answer: \" + final_self_consistency_predictions[i]['text'])\n",
    "    print(\"Self-consistency Predicted Grade: \" + self_consistency_graded_outputs[i]['text'])\n",
    "    print()"
   ]
  },
  {
   "cell_type": "code",
   "execution_count": null,
   "metadata": {},
   "outputs": [],
   "source": []
  }
 ],
 "metadata": {
  "kernelspec": {
   "display_name": "langchain",
   "language": "python",
   "name": "python3"
  },
  "language_info": {
   "codemirror_mode": {
    "name": "ipython",
    "version": 3
   },
   "file_extension": ".py",
   "mimetype": "text/x-python",
   "name": "python",
   "nbconvert_exporter": "python",
   "pygments_lexer": "ipython3",
   "version": "3.9.16"
  },
  "orig_nbformat": 4
 },
 "nbformat": 4,
 "nbformat_minor": 2
}

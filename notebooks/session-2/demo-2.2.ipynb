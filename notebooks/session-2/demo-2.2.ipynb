{
 "cells": [
  {
   "attachments": {},
   "cell_type": "markdown",
   "metadata": {},
   "source": [
    "# Session 2 - Demo 2.2 - Model Reliability & Enhancing LLMs\n",
    "\n",
    "<a href=\"https://colab.research.google.com/github/dair-ai/maven-pe-for-llms-4/blob/main/notebooks/session-2/demo-2.2.ipynb\" target=\"_parent\"><img src=\"https://colab.research.google.com/assets/colab-badge.svg\" alt=\"Open In Colab\"/></a>"
   ]
  },
  {
   "cell_type": "code",
   "execution_count": 1,
   "metadata": {},
   "outputs": [],
   "source": [
    "%%capture\n",
    "# update or install the necessary libraries\n",
    "!pip install --upgrade openai\n",
    "!pip install --upgrade langchain\n",
    "!pip install --upgrade python-dotenv\n",
    "!pip install --upgrade chromadb"
   ]
  },
  {
   "cell_type": "code",
   "execution_count": 2,
   "metadata": {},
   "outputs": [],
   "source": [
    "# load the libraries\n",
    "import openai\n",
    "import os\n",
    "from langchain.llms import OpenAI\n",
    "import IPython\n",
    "from dotenv import load_dotenv\n",
    "\n",
    "# load the environment variables\n",
    "load_dotenv()\n",
    "\n",
    "# API configuration\n",
    "openai.api_key = os.getenv(\"OPENAI_API_KEY\")\n",
    "\n",
    "# for LangChain\n",
    "os.environ[\"OPENAI_API_KEY\"] = os.getenv(\"OPENAI_API_KEY\")"
   ]
  },
  {
   "cell_type": "code",
   "execution_count": 2,
   "metadata": {},
   "outputs": [],
   "source": [
    "def get_completion(messages, model=\"gpt-3.5-turbo\", temperature=0, max_tokens=300):\n",
    "    response = openai.ChatCompletion.create(\n",
    "        model=model,\n",
    "        messages=messages,\n",
    "        temperature=temperature,\n",
    "        max_tokens=max_tokens,\n",
    "    )\n",
    "    return response.choices[0].message[\"content\"]"
   ]
  },
  {
   "attachments": {},
   "cell_type": "markdown",
   "metadata": {},
   "source": [
    "## Counting token usage\n",
    "\n",
    "We will use `tiktoken`, an open-source tokenizer by OpenAI.\n",
    "\n",
    "https://github.com/openai/tiktoken"
   ]
  },
  {
   "cell_type": "code",
   "execution_count": 3,
   "metadata": {},
   "outputs": [],
   "source": [
    "import tiktoken"
   ]
  },
  {
   "cell_type": "code",
   "execution_count": 4,
   "metadata": {},
   "outputs": [],
   "source": [
    "# load encoding by name\n",
    "encoding = tiktoken.get_encoding(\"cl100k_base\")\n",
    "\n",
    "# load the correct encoding by passing the model name\n",
    "encoding = tiktoken.encoding_for_model(\"gpt-3.5-turbo\")"
   ]
  },
  {
   "cell_type": "code",
   "execution_count": 5,
   "metadata": {},
   "outputs": [
    {
     "data": {
      "text/plain": [
       "[40, 1097, 8430, 6380, 3432]"
      ]
     },
     "execution_count": 5,
     "metadata": {},
     "output_type": "execute_result"
    }
   ],
   "source": [
    "# tokenize text\n",
    "encoding.encode(\"I am feeling happy today\")"
   ]
  },
  {
   "cell_type": "code",
   "execution_count": 6,
   "metadata": {},
   "outputs": [
    {
     "data": {
      "text/plain": [
       "5"
      ]
     },
     "execution_count": 6,
     "metadata": {},
     "output_type": "execute_result"
    }
   ],
   "source": [
    "# count tokens\n",
    "len(encoding.encode(\"I am feeling happy today\"))"
   ]
  },
  {
   "cell_type": "code",
   "execution_count": 8,
   "metadata": {},
   "outputs": [],
   "source": [
    "# using gpt-4 model\n",
    "gpt4_encoding = tiktoken.encoding_for_model(\"gpt-4\")"
   ]
  },
  {
   "cell_type": "code",
   "execution_count": 9,
   "metadata": {},
   "outputs": [
    {
     "data": {
      "text/plain": [
       "[40, 1097, 8430, 6380, 3432]"
      ]
     },
     "execution_count": 9,
     "metadata": {},
     "output_type": "execute_result"
    }
   ],
   "source": [
    "gpt4_encoding.encode(\"I am feeling happy today\")"
   ]
  },
  {
   "attachments": {},
   "cell_type": "markdown",
   "metadata": {},
   "source": [
    "You can also calculate token usage with LangChain:"
   ]
  },
  {
   "cell_type": "code",
   "execution_count": 10,
   "metadata": {},
   "outputs": [],
   "source": [
    "from langchain.llms import OpenAI\n",
    "from langchain.callbacks import get_openai_callback"
   ]
  },
  {
   "cell_type": "code",
   "execution_count": 11,
   "metadata": {},
   "outputs": [
    {
     "name": "stdout",
     "output_type": "stream",
     "text": [
      "Tokens Used: 198\n",
      "\tPrompt Tokens: 8\n",
      "\tCompletion Tokens: 190\n",
      "Successful Requests: 1\n",
      "Total Cost (USD): $0.003960000000000001\n"
     ]
    }
   ],
   "source": [
    "llm = OpenAI(model_name=\"text-davinci-003\")\n",
    "\n",
    "# anything inside the context manager will be tracked\n",
    "with get_openai_callback() as cb:\n",
    "    result = llm(\"Tell me a short story about a robot\")\n",
    "    print(cb)"
   ]
  },
  {
   "attachments": {},
   "cell_type": "markdown",
   "metadata": {},
   "source": [
    "## Be clear and specific when prompting"
   ]
  },
  {
   "cell_type": "code",
   "execution_count": 18,
   "metadata": {},
   "outputs": [
    {
     "name": "stdout",
     "output_type": "stream",
     "text": [
      "Sorry, I couldn't find a movie to recommend today.\n"
     ]
    }
   ],
   "source": [
    "global_trending_movies = [\"The Suicide Squad\", \"No Time to Die\", \"Dune\",  \"Spider-Man: No Way Home\", \"The French Dispatch\", \"Black Widow\", \"Eternals\", \"The Matrix Resurrections\", \"West Side Story\", \"The Many Saints of Newark\"]\n",
    "\n",
    "system_message = \"\"\"\n",
    "Your task is to recommend movies to a customer. \n",
    "\n",
    "You are responsible to recommend a movie from the top global trending movies from {global_trending_movies}. \n",
    "\n",
    "You should refrain from asking users for their preferences and avoid asking for personal information.\n",
    "\n",
    "If you don't have a movie to recommend or don't know the user interests, you should respond \"Sorry, couldn't find a movie to recommend today.\".\n",
    "\"\"\"\n",
    "\n",
    "user_message = \"\"\"\n",
    "Please recommend a movie based on my interests.\n",
    "\"\"\"\n",
    "\n",
    "message = [\n",
    "    {\n",
    "        \"role\": \"system\",\n",
    "        \"content\": system_message.format(global_trending_movies=global_trending_movies)\n",
    "    },\n",
    "    {\n",
    "        \"role\": \"user\",\n",
    "        \"content\": user_message\n",
    "    }\n",
    "]\n",
    "\n",
    "response = get_completion(message)\n",
    "print(response)"
   ]
  },
  {
   "attachments": {},
   "cell_type": "markdown",
   "metadata": {},
   "source": [
    "An example where the customer provides information about interests:"
   ]
  },
  {
   "cell_type": "code",
   "execution_count": 19,
   "metadata": {},
   "outputs": [
    {
     "name": "stdout",
     "output_type": "stream",
     "text": [
      "Based on your interest in super-hero movies, I recommend you watch \"Spider-Man: No Way Home\". It is one of the top global trending movies and features the beloved superhero Spider-Man. Enjoy the movie!\n"
     ]
    }
   ],
   "source": [
    "global_trending_movies = [\"The Suicide Squad\", \"No Time to Die\", \"Dune\",  \"Spider-Man: No Way Home\", \"The French Dispatch\", \"Black Widow\", \"Eternals\", \"The Matrix Resurrections\", \"West Side Story\", \"The Many Saints of Newark\"]\n",
    "\n",
    "system_message = \"\"\"\n",
    "Your task is to recommends movies to a customer. \n",
    "\n",
    "You are responsible to recommend a movie from the top global trending movies from {global_trending_movies}. \n",
    "\n",
    "You should refrain from asking users for their preferences and avoid asking for personal information.\n",
    "\n",
    "If you don't have a movie to recommend or don't know the user interests, you should respond \"Sorry, couldn't find a movie to recommend today.\".\n",
    "\"\"\"\n",
    "\n",
    "user_message = \"\"\"\n",
    "I love super-hero movies. Please recommend a movie based on my interests.\n",
    "\"\"\"\n",
    "\n",
    "message = [\n",
    "    {\n",
    "        \"role\": \"system\",\n",
    "        \"content\": system_message.format(global_trending_movies=global_trending_movies)\n",
    "    },\n",
    "    {\n",
    "        \"role\": \"user\",\n",
    "        \"content\": user_message\n",
    "    }\n",
    "]\n",
    "\n",
    "response = get_completion(message)\n",
    "print(response)"
   ]
  },
  {
   "attachments": {},
   "cell_type": "markdown",
   "metadata": {},
   "source": [
    "## Using Delimiters to Distinguish Components of a Prompt"
   ]
  },
  {
   "cell_type": "code",
   "execution_count": 28,
   "metadata": {},
   "outputs": [
    {
     "data": {
      "text/markdown": [
       "```pythonstrings2 = []\n",
       "strings2.append(\"one\")\n",
       "strings2.append(\"two\")\n",
       "strings2.append(\"THREE\")\n",
       "strings2.append(\"4\")\n",
       "```"
      ],
      "text/plain": [
       "<IPython.core.display.Markdown object>"
      ]
     },
     "execution_count": 28,
     "metadata": {},
     "output_type": "execute_result"
    }
   ],
   "source": [
    "prompt = \"\"\"\n",
    "Convert the following code block in the #### <code> #### section to Python:\n",
    "\n",
    "####\n",
    "strings2.push(\"one\")\n",
    "strings2.push(\"two\")\n",
    "strings2.push(\"THREE\")\n",
    "strings2.push(\"4\")\n",
    "####\n",
    "\"\"\"\n",
    "\n",
    "message = [\n",
    "    {\n",
    "        \"role\": \"user\",\n",
    "        \"content\": prompt\n",
    "    }\n",
    "]\n",
    "\n",
    "IPython.display.Markdown(\"```python\" + get_completion(message) + \"\\n```\")"
   ]
  },
  {
   "attachments": {},
   "cell_type": "markdown",
   "metadata": {},
   "source": [
    "## Specify Output Format"
   ]
  },
  {
   "cell_type": "code",
   "execution_count": 29,
   "metadata": {},
   "outputs": [
    {
     "name": "stdout",
     "output_type": "stream",
     "text": [
      "{\n",
      "  \"product_name\": \"Nike Air Max 270 React\",\n",
      "  \"product_brand\": \"Nike\"\n",
      "}\n"
     ]
    }
   ],
   "source": [
    "prompt = \"\"\"\n",
    "Your task is: given a product description, return the requested information in the section delimited by ### ###. Format the output as a JSON object.\n",
    "\n",
    "Product Description: Introducing the Nike Air Max 270 React: a comfortable and stylish sneaker that combines two of Nike's best technologies. With a sleek black design and a unique bubble sole, these shoes are perfect for everyday wear.\n",
    "\n",
    "###\n",
    "product_name: the name of the product\n",
    "product_bran: the name of the brand (if any) \n",
    "###\n",
    "\"\"\"\n",
    "\n",
    "message = [\n",
    "    {\n",
    "        \"role\": \"user\",\n",
    "        \"content\": prompt\n",
    "    }\n",
    "]\n",
    "\n",
    "print(get_completion(message))"
   ]
  },
  {
   "attachments": {},
   "cell_type": "markdown",
   "metadata": {},
   "source": [
    "## Specifying the Length of the Output"
   ]
  },
  {
   "cell_type": "code",
   "execution_count": 30,
   "metadata": {},
   "outputs": [
    {
     "name": "stdout",
     "output_type": "stream",
     "text": [
      "Dear [Customer], we have located your package and it is on its way to you. We apologize for any inconvenience caused and have taken steps to prevent similar issues in the future. Thank you for your understanding.\n"
     ]
    }
   ],
   "source": [
    "prompt = \"\"\"\n",
    "Your task is: given a customer support email, which is delimited with ###, generate a shorter 1-2 sentence response.\n",
    "\n",
    "###\n",
    "Dear [Customer],\n",
    "\n",
    "We hope this email finds you well. We wanted to update you on the shipping issue you experienced with your recent order. After investigating the issue, we have located your package and it is currently on its way to you. We apologize for any inconvenience this may have caused and thank you for your patience and understanding while we resolved this matter.\n",
    "\n",
    "Please note that we have taken steps to prevent similar issues from occurring in the future. We have improved our shipping tracking system and are now better equipped to ensure that packages arrive on time and in good condition. We take the quality of our service very seriously and want to ensure that all of our customers have a positive experience when shopping with us.\n",
    "\n",
    "Once again, we apologize for any inconvenience this may have caused and hope that you will continue to shop with us in the future. If you have any further questions or concerns, please do not hesitate to contact us. We are always here to help and ensure that your shopping experience is a positive one.\n",
    "\n",
    "Thank you for your understanding.\n",
    "\n",
    "Best regards,\n",
    "\n",
    "[Your Name]\n",
    "\n",
    "Customer Support Team\n",
    "###\n",
    "\"\"\"\n",
    "\n",
    "message = [\n",
    "    {  \n",
    "        \"role\": \"user\",\n",
    "        \"content\": prompt       \n",
    "    }\n",
    "]\n",
    "\n",
    "print(get_completion(message))"
   ]
  },
  {
   "attachments": {},
   "cell_type": "markdown",
   "metadata": {},
   "source": [
    "## Avoid deviating; Constrain the Output"
   ]
  },
  {
   "attachments": {},
   "cell_type": "markdown",
   "metadata": {},
   "source": [
    "Sometimes it helps to be more specific about what output you expect to avoid the model deviating from the main task of interest. "
   ]
  },
  {
   "cell_type": "code",
   "execution_count": 31,
   "metadata": {},
   "outputs": [
    {
     "name": "stdout",
     "output_type": "stream",
     "text": [
      "I would recommend watching \"The Shawshank Redemption.\" It is a highly acclaimed drama film that tells the story of a banker who is sentenced to life in Shawshank State Penitentiary for a crime he did not commit. The movie explores themes of hope, friendship, and the resilience of the human spirit. It has a compelling storyline, brilliant performances, and is considered one of the greatest films of all time.\n"
     ]
    }
   ],
   "source": [
    "message = [\n",
    "    {\n",
    "        \"role\": \"user\",\n",
    "        \"content\": \"Recommend a movie for Saturday:\"\n",
    "    }\n",
    "]\n",
    "\n",
    "print(get_completion(message))"
   ]
  },
  {
   "cell_type": "code",
   "execution_count": 32,
   "metadata": {},
   "outputs": [
    {
     "name": "stdout",
     "output_type": "stream",
     "text": [
      "Inception\n"
     ]
    }
   ],
   "source": [
    "message = [\n",
    "    {\n",
    "        \"role\": \"user\",\n",
    "        \"content\": \"Recommend a movie for Saturday. Just say the movie, no need for explanations!\"\n",
    "    }\n",
    "]\n",
    "\n",
    "print(get_completion(message))"
   ]
  },
  {
   "attachments": {},
   "cell_type": "markdown",
   "metadata": {},
   "source": [
    "## Split Task into Subtasks"
   ]
  },
  {
   "cell_type": "code",
   "execution_count": 33,
   "metadata": {},
   "outputs": [
    {
     "name": "stdout",
     "output_type": "stream",
     "text": [
      "Date: July 15th to July 16th\n",
      "Event: Summer Beats Festival\n"
     ]
    }
   ],
   "source": [
    "event = \"\"\"\n",
    "Summer Beats Festival\n",
    "\n",
    "The event will be held at the beautiful seaside location of Ocean Park in Miami, Florida.\n",
    "\n",
    "The festival will take place over two days, from July 15th to July 16th.\n",
    "\n",
    "The Summer Beats Festival will feature a fantastic lineup of popular musical artists and bands from a variety of genres. Attendees can expect to dance and sing along to live performances from headliners such as Taylor Swift, Bruno Mars, and Post Malone. In addition to the main stage, there will be several smaller stages scattered throughout the park featuring up-and-coming artists and DJs.\n",
    "\n",
    "The festival will also offer a wide variety of food and drink options for attendees to enjoy. From classic festival fare like hot dogs and funnel cakes to more gourmet offerings like sushi and craft beer, there will be something to suit every taste.\n",
    "\n",
    "Families with children are welcome, and there will be plenty of activities to keep the little ones entertained. The festival will offer a dedicated children's area with carnival games, face painting, and other fun activities.\n",
    "\n",
    "For those looking for a more luxurious experience, the Summer Beats Festival will also offer a VIP area with premium viewing of the main stage, private bars, and lounges, and other exclusive perks.\n",
    "\n",
    "Overall, the Summer Beats Festival promises to be an unforgettable event for music lovers of all ages. With a stunning location, a great lineup of artists, and plenty of activities and amenities, it's sure to be the highlight of the summer!\n",
    "\"\"\"\n",
    "\n",
    "prompt = \"\"\"\n",
    "Your task is to extract the date of the event and the name of the event. The event is delimited by ### ###.\n",
    "\n",
    "###\n",
    "Event: {event}\n",
    "###\n",
    "\n",
    "Output:\n",
    "\"\"\"\n",
    "\n",
    "message = [\n",
    "    {\n",
    "        \"role\": \"user\",\n",
    "        \"content\": prompt.format(event=event)\n",
    "    }\n",
    "]\n",
    "\n",
    "print(get_completion(message))"
   ]
  },
  {
   "attachments": {},
   "cell_type": "markdown",
   "metadata": {},
   "source": [
    "As you add more tasks within the prompt you need to me more detailed and specific with the instructions."
   ]
  },
  {
   "cell_type": "code",
   "execution_count": 35,
   "metadata": {},
   "outputs": [
    {
     "name": "stdout",
     "output_type": "stream",
     "text": [
      "The event is the Summer Beats Festival, which will be held at Ocean Park in Miami, Florida. The festival will take place over two days, from July 15th to July 16th.\n"
     ]
    }
   ],
   "source": [
    "prompt = \"\"\"\n",
    "Explain the event in 2 sentences. \n",
    "Extract the date of the event and the name of the event. The event is delimited by ### ###. \n",
    "\n",
    "Transform the dates into a MM/DD.\n",
    "\n",
    "###\n",
    "Event: {event}\n",
    "###\n",
    "\n",
    "Output format: Explanation | event name | date\n",
    "\"\"\"\n",
    "\n",
    "message = [\n",
    "    {\n",
    "        \"role\": \"user\",\n",
    "        \"content\": prompt.format(event=event)\n",
    "    }\n",
    "]\n",
    "\n",
    "print(get_completion(message))"
   ]
  },
  {
   "attachments": {},
   "cell_type": "markdown",
   "metadata": {},
   "source": [
    "The output above is not exactly what I wanted. The way to fix it is by being very specific and spell out the steps in details. "
   ]
  },
  {
   "attachments": {},
   "cell_type": "markdown",
   "metadata": {},
   "source": [
    "## Function Calling\n",
    "\n",
    "A useful function to get reliable outputs and format responses that can interact with external tools. \n",
    "\n"
   ]
  },
  {
   "attachments": {},
   "cell_type": "markdown",
   "metadata": {},
   "source": [
    "### Example 1: Summarizing and Tagging"
   ]
  },
  {
   "cell_type": "code",
   "execution_count": 3,
   "metadata": {},
   "outputs": [],
   "source": [
    "def get_completion(messages, functions, function_call, model=\"gpt-3.5-turbo-0613\"):\n",
    "    response = openai.ChatCompletion.create(\n",
    "        model=model,\n",
    "        messages=messages,\n",
    "        functions = functions,\n",
    "        function_call=function_call,\n",
    "    )\n",
    "    return response"
   ]
  },
  {
   "cell_type": "code",
   "execution_count": 4,
   "metadata": {},
   "outputs": [],
   "source": [
    "abstract = \"\"\"\n",
    "Training large language models (LLM) with open-domain instruction following data brings colossal success. However, manually creating such instruction data is very time-consuming and labor-intensive. Moreover, humans may struggle to produce high-complexity instructions. In this paper, we show an avenue for creating large amounts of instruction data with varying levels of complexity using LLM instead of humans. Starting with an initial set of instructions, we use our proposed Evol-Instruct to rewrite them step by step into more complex instructions. Then, we mix all generated instruction data to fine-tune LLaMA. We call the resulting model WizardLM. Human evaluations on a complexity-balanced test bed show that instructions from Evol-Instruct are superior to human-created ones. By analyzing the human evaluation results of the high complexity part, we demonstrate that outputs from our WizardLM model are preferred to outputs from OpenAI ChatGPT. Even though WizardLM still lags behind ChatGPT in some aspects, our findings suggest that fine-tuning with AI-evolved instructions is a promising direction for enhancing large language models.\n",
    "\"\"\""
   ]
  },
  {
   "cell_type": "code",
   "execution_count": 13,
   "metadata": {},
   "outputs": [],
   "source": [
    "functions = [\n",
    "    {\n",
    "        \"name\": \"get_summary_and_tags\",\n",
    "        \"description\": \"Returns the summary and tags of a given text.\",\n",
    "        \"parameters\": { # arguments of our function that ChatGPT will send to use and what type\n",
    "            \"type\": \"object\", # we want arguments as objects\n",
    "            \"properties\": { # properties of the object\n",
    "                \"tags\": {\n",
    "                    \"type\": \"string\", # tags are a string\n",
    "                    \"description\": \"The tags correspond to the machine learning models mentioned in the abstract.\"\n",
    "                },\n",
    "                \"summary\": {\n",
    "                    \"type\": \"string\", # summary is a string\n",
    "                    \"description\": \"The summary of the text output.\"\n",
    "                }\n",
    "            }\n",
    "        }\n",
    "    }\n",
    "]"
   ]
  },
  {
   "cell_type": "code",
   "execution_count": 14,
   "metadata": {},
   "outputs": [
    {
     "name": "stdout",
     "output_type": "stream",
     "text": [
      "{\n",
      "  \"id\": \"chatcmpl-7bB41c0eOAFx5cDDTgJSj4lBWtcTF\",\n",
      "  \"object\": \"chat.completion\",\n",
      "  \"created\": 1689095021,\n",
      "  \"model\": \"gpt-3.5-turbo-0613\",\n",
      "  \"choices\": [\n",
      "    {\n",
      "      \"index\": 0,\n",
      "      \"message\": {\n",
      "        \"role\": \"assistant\",\n",
      "        \"content\": null,\n",
      "        \"function_call\": {\n",
      "          \"name\": \"get_summary_and_tags\",\n",
      "          \"arguments\": \"{\\n  \\\"summary\\\": \\\"Training large language models (LLM) with open-domain instruction following data brings colossal success. However, manually creating such instruction data is very time-consuming and labor-intensive. Moreover, humans may struggle to produce high-complexity instructions. In this paper, we propose a method to create large amounts of instruction data using LLM instead of humans. We evaluate the effectiveness of our method by comparing the instructions generated by LLM with human-created ones. Our findings suggest that fine-tuning with AI-evolved instructions is a promising direction for enhancing large language models.\\\",\\n  \\\"tags\\\": \\\"large language models, instruction data, Evol-Instruct, WizardLM, human evaluations, AI-evolved instructions\\\"\\n}\"\n",
      "        }\n",
      "      },\n",
      "      \"finish_reason\": \"stop\"\n",
      "    }\n",
      "  ],\n",
      "  \"usage\": {\n",
      "    \"prompt_tokens\": 343,\n",
      "    \"completion_tokens\": 145,\n",
      "    \"total_tokens\": 488\n",
      "  }\n",
      "}\n"
     ]
    }
   ],
   "source": [
    "messages = [\n",
    "        {\n",
    "            \"role\": \"system\",\n",
    "            \"content\": \"Your task is to extract the summary and tags of the following text. The tags correspond to the machine learning models mentioned in the abstract.\"\n",
    "        },\n",
    "        {\n",
    "            \"role\": \"user\",\n",
    "            \"content\": f\"Here is the text: {abstract}. Now return the summary and tags.\"\n",
    "        }\n",
    "    ]\n",
    "\n",
    "response = get_completion(messages, functions, {\"name\": \"get_summary_and_tags\"})\n",
    "\n",
    "print(response)"
   ]
  },
  {
   "cell_type": "code",
   "execution_count": 16,
   "metadata": {},
   "outputs": [
    {
     "data": {
      "text/plain": [
       "{'summary': 'Training large language models (LLM) with open-domain instruction following data brings colossal success. However, manually creating such instruction data is very time-consuming and labor-intensive. Moreover, humans may struggle to produce high-complexity instructions. In this paper, we propose a method to create large amounts of instruction data using LLM instead of humans. We evaluate the effectiveness of our method by comparing the instructions generated by LLM with human-created ones. Our findings suggest that fine-tuning with AI-evolved instructions is a promising direction for enhancing large language models.',\n",
       " 'tags': 'large language models, instruction data, Evol-Instruct, WizardLM, human evaluations, AI-evolved instructions'}"
      ]
     },
     "execution_count": 16,
     "metadata": {},
     "output_type": "execute_result"
    }
   ],
   "source": [
    "import json \n",
    "\n",
    "final_object = json.loads(response[\"choices\"][0][\"message\"][\"function_call\"][\"arguments\"])\n",
    "\n",
    "final_object"
   ]
  },
  {
   "attachments": {},
   "cell_type": "markdown",
   "metadata": {},
   "source": [
    "### Example 2: Converting Webpage Content to Structured Output"
   ]
  },
  {
   "cell_type": "code",
   "execution_count": 17,
   "metadata": {},
   "outputs": [],
   "source": [
    "HN_LINKS = \"\"\"\n",
    "1.\t\n",
    "Displayport: A Better Video Interface (hackaday.com)\n",
    "139 points by zdw 1 hour ago | flag | hide | 98 comments\n",
    "\n",
    "2.\t\n",
    "Emacs GUI Library (andreyor.st)\n",
    "41 points by iscream26 51 minutes ago | flag | hide | 10 comments\n",
    "\n",
    "3.\t\n",
    "Introducing Keras Core: Keras for TensorFlow, Jax, and PyTorch (keras.io)\n",
    "59 points by dewitt 1 hour ago | flag | hide | 20 comments\n",
    "\n",
    "4.\t\n",
    "Google's new metrics: Interaction to Next Paint (INP) (web.dev)\n",
    "33 points by 42droids 1 hour ago | flag | hide | 9 comments\n",
    "\n",
    "5.\t\n",
    "PhotoPrism: Browse Your Life in Pictures (github.com/photoprism)\n",
    "194 points by pretext 5 hours ago | flag | hide | 103 comments\n",
    "\n",
    "6.\t\n",
    "We put a distributed database in the browser and made a game of it (tigerbeetle.com)\n",
    "112 points by BratishkaErik 3 hours ago | flag | hide | 25 comments\n",
    "\n",
    "7.\t\n",
    "C++23: The Next C++ Standard (modernescpp.com)\n",
    "94 points by ibobev 4 hours ago | flag | hide | 58 comments\n",
    "\n",
    "8.\t\n",
    "Show HN: Clickvote – Open-source upvotes, likes, and reviews to any context (github.com/clickvote)\n",
    "35 points by nevodavid10 2 hours ago | flag | hide | 25 comments\n",
    "\n",
    "9.\t\n",
    "What we learned from using GPT for 500k+ classifications (trygloo.com)\n",
    "36 points by hellovai 1 hour ago | flag | hide | 4 comments\n",
    "\n",
    "10.\t\n",
    "Laws of UX (lawsofux.com)\n",
    "58 points by mgdo 3 hours ago | flag | hide | 34 comments\n",
    "\n",
    "11.\t\n",
    "Firejail: Light, featureful and zero-dependency security sandbox for Linux (firejail.wordpress.com)\n",
    "29 points by nateb2022 1 hour ago | flag | hide | 11 comments\n",
    "\n",
    "12.\t\n",
    "ScyllaDB is Moving to a New Replication Algorithm: Tablets (scylladb.com)\n",
    "41 points by carpintech 2 hours ago | flag | hide | 11 comments\n",
    "\n",
    "13.\t\n",
    "Claude 2 Model Card [pdf] (anthropic.com)\n",
    "29 points by og_kalu 1 hour ago | flag | hide | 4 comments\n",
    "\n",
    "14.\t\n",
    "HTTP vs. WebSockets: Which one is the fastest for Postgres queries at the Edge (neon.tech)\n",
    "45 points by nikita 1 hour ago | flag | hide | 13 comments\n",
    "\n",
    "15.\t\n",
    "Shop Class 2.0: Rethinking High School to Accelerate Electrification (volted.substack.com)\n",
    "16 points by jeiden 1 hour ago | flag | hide | 6 comments\n",
    "\n",
    "16.\t\n",
    "AI Safety and the Age of Dislightenment (fast.ai)\n",
    "94 points by wskinner 2 hours ago | flag | hide | 94 comments\n",
    "\n",
    "17.\t\n",
    "GitHub Profile Achievements (cqcumbers.com)\n",
    "64 points by cqcumbers 2 hours ago | flag | hide | 36 comments\n",
    "\n",
    "18.\t\n",
    "The Magic of Dependency Resolution (ochagavia.nl)\n",
    "5 points by willm 40 minutes ago | flag | hide | discuss\n",
    "\n",
    "19.\t\n",
    "Space After Periods (1993) (webhistory.org)\n",
    "81 points by susam 10 hours ago | flag | hide | 45 comments\n",
    "\n",
    "20.\t\n",
    "GPT-Prompt-Engineer (github.com/mshumer)\n",
    "277 points by sturza 10 hours ago | flag | hide | 116 comments\n",
    "\n",
    "21.\t\n",
    "The mystery of the Ain Dubai, the world’s largest (broken) Ferris wheel (washingtonpost.com)\n",
    "13 points by Stratoscope 1 hour ago | flag | hide | 5 comments\n",
    "\n",
    "22.\t\n",
    "Back-end parallelism in the Rust compiler (nnethercote.github.io)\n",
    "127 points by edmorley 7 hours ago | flag | hide | 9 comments\n",
    "\n",
    "23.\t\n",
    "At Japan’s first winery, the country’s oldest grape lives on (japantimes.co.jp)\n",
    "59 points by karaokeyoga 6 hours ago | flag | hide | 41 comments\n",
    "\n",
    "24.\t\n",
    "Solar Energy Solves Global Warming (tomaspueyo.com)\n",
    "61 points by ph0rque 2 hours ago | flag | hide | 48 comments\n",
    "\n",
    "25.\t\n",
    "GPT-4 details leaked? (threadreaderapp.com)\n",
    "531 points by bx376 13 hours ago | flag | hide | 451 comments\n",
    "\n",
    "26.\t\n",
    "Roots of Trust Are Difficult (mjg59.dreamwidth.org)\n",
    "61 points by todsacerdoti 6 hours ago | flag | hide | 25 comments\n",
    "\n",
    "27.\t\n",
    "IntelliJ Rust (jetbrains.com)\n",
    "72 points by manchoz 2 hours ago | flag | hide | 28 comments\n",
    "\n",
    "28.\t\n",
    "There's always more history (2020) (hillelwayne.com)\n",
    "35 points by isp 5 hours ago | flag | hide | 6 comments\n",
    "\n",
    "29.\t\n",
    "Threads and the Social/Communications Map (stratechery.com)\n",
    "48 points by feross 5 hours ago | flag | hide | 34 comments\n",
    "\n",
    "30.\t\n",
    "The story in pictures of the Hughes H-4 Hercules, 1945-1947 (rarehistoricalphotos.com)\n",
    "16 points by dxs 2 hours ago | flag | hide | 4 comments\n",
    "\"\"\""
   ]
  },
  {
   "cell_type": "code",
   "execution_count": 18,
   "metadata": {},
   "outputs": [],
   "source": [
    "functions = [\n",
    "    {\n",
    "        \"name\": \"get_news_links\",\n",
    "        \"description\": \"Returns a list of structured Hacker News posts given a list.\",\n",
    "        \"parameters\": { # arguments of our function that ChatGPT will send to use and what type\n",
    "            \"type\": \"object\", # we want arguments as objects\n",
    "            \"properties\": { # properties of the object\n",
    "                \"id\": {\n",
    "                    \"type\": \"string\",\n",
    "                    \"description\": \"The id of the Hacker News post.\"\n",
    "                },\n",
    "                \"title\": {\n",
    "                    \"type\": \"string\", \n",
    "                    \"description\": \"Corresponds to the title of the Hacker News post.\"\n",
    "                },\n",
    "                \"url\": {\n",
    "                    \"type\": \"string\", \n",
    "                    \"description\": \"Corresponds to the url of the Hacker News post.\"\n",
    "                },\n",
    "                \"points\": {\n",
    "                    \"type\": \"integer\",\n",
    "                    \"description\": \"Corresponds to the points of the Hacker News post.\"\n",
    "                },\n",
    "                \"comments\": {\n",
    "                    \"type\": \"integer\",\n",
    "                    \"description\": \"Corresponds to the number of comments of the Hacker News post.\"\n",
    "                },\n",
    "            }\n",
    "        }\n",
    "    }\n",
    "]"
   ]
  },
  {
   "cell_type": "code",
   "execution_count": 28,
   "metadata": {},
   "outputs": [
    {
     "name": "stdout",
     "output_type": "stream",
     "text": [
      "{\n",
      "  \"id\": \"chatcmpl-7bBMqqjNYUhbs3vWrXG3mCaeQtWHa\",\n",
      "  \"object\": \"chat.completion\",\n",
      "  \"created\": 1689096188,\n",
      "  \"model\": \"gpt-3.5-turbo-0613\",\n",
      "  \"choices\": [\n",
      "    {\n",
      "      \"index\": 0,\n",
      "      \"message\": {\n",
      "        \"role\": \"assistant\",\n",
      "        \"content\": null,\n",
      "        \"function_call\": {\n",
      "          \"name\": \"get_news_links\",\n",
      "          \"arguments\": \"[\\n  {\\n    \\\"id\\\": \\\"1\\\",\\n    \\\"title\\\": \\\"Displayport: A Better Video Interface\\\",\\n    \\\"url\\\": \\\"hackaday.com\\\",\\n    \\\"points\\\": 139,\\n    \\\"comments\\\": 98\\n  },\\n  {\\n    \\\"id\\\": \\\"2\\\",\\n    \\\"title\\\": \\\"Emacs GUI Library\\\",\\n    \\\"url\\\": \\\"andreyor.st\\\",\\n    \\\"points\\\": 41,\\n    \\\"comments\\\": 10\\n  },\\n  {\\n    \\\"id\\\": \\\"3\\\",\\n    \\\"title\\\": \\\"Introducing Keras Core: Keras for TensorFlow, Jax, and PyTorch\\\",\\n    \\\"url\\\": \\\"keras.io\\\",\\n    \\\"points\\\": 59,\\n    \\\"comments\\\": 20\\n  },\\n  {\\n    \\\"id\\\": \\\"4\\\",\\n    \\\"title\\\": \\\"Google's new metrics: Interaction to Next Paint (INP)\\\",\\n    \\\"url\\\": \\\"web.dev\\\",\\n    \\\"points\\\": 33,\\n    \\\"comments\\\": 9\\n  },\\n  {\\n    \\\"id\\\": \\\"5\\\",\\n    \\\"title\\\": \\\"PhotoPrism: Browse Your Life in Pictures\\\",\\n    \\\"url\\\": \\\"github.com/photoprism\\\",\\n    \\\"points\\\": 194,\\n    \\\"comments\\\": 103\\n  },\\n  {\\n    \\\"id\\\": \\\"6\\\",\\n    \\\"title\\\": \\\"We put a distributed database in the browser and made a game of it\\\",\\n    \\\"url\\\": \\\"tigerbeetle.com\\\",\\n    \\\"points\\\": 112,\\n    \\\"comments\\\": 25\\n  },\\n  {\\n    \\\"id\\\": \\\"7\\\",\\n    \\\"title\\\": \\\"C++23: The Next C++ Standard\\\",\\n    \\\"url\\\": \\\"modernescpp.com\\\",\\n    \\\"points\\\": 94,\\n    \\\"comments\\\": 58\\n  },\\n  {\\n    \\\"id\\\": \\\"8\\\",\\n    \\\"title\\\": \\\"Show HN: Clickvote \\u2013 Open-source upvotes, likes, and reviews to any context\\\",\\n    \\\"url\\\": \\\"github.com/clickvote\\\",\\n    \\\"points\\\": 35,\\n    \\\"comments\\\": 25\\n  },\\n  {\\n    \\\"id\\\": \\\"9\\\",\\n    \\\"title\\\": \\\"What we learned from using GPT for 500k+ classifications\\\",\\n    \\\"url\\\": \\\"trygloo.com\\\",\\n    \\\"points\\\": 36,\\n    \\\"comments\\\": 4\\n  },\\n  {\\n    \\\"id\\\": \\\"10\\\",\\n    \\\"title\\\": \\\"Laws of UX\\\",\\n    \\\"url\\\": \\\"lawsofux.com\\\",\\n    \\\"points\\\": 58,\\n    \\\"comments\\\": 34\\n  },\\n  {\\n    \\\"id\\\": \\\"11\\\",\\n    \\\"title\\\": \\\"Firejail: Light, featureful and zero-dependency security sandbox for Linux\\\",\\n    \\\"url\\\": \\\"firejail.wordpress.com\\\",\\n    \\\"points\\\": 29,\\n    \\\"comments\\\": 11\\n  },\\n  {\\n    \\\"id\\\": \\\"12\\\",\\n    \\\"title\\\": \\\"ScyllaDB is Moving to a New Replication Algorithm: Tablets\\\",\\n    \\\"url\\\": \\\"scylladb.com\\\",\\n    \\\"points\\\": 41,\\n    \\\"comments\\\": 11\\n  },\\n  {\\n    \\\"id\\\": \\\"13\\\",\\n    \\\"title\\\": \\\"Claude 2 Model Card [pdf]\\\",\\n    \\\"url\\\": \\\"anthropic.com\\\",\\n    \\\"points\\\": 29,\\n    \\\"comments\\\": 4\\n  },\\n  {\\n    \\\"id\\\": \\\"14\\\",\\n    \\\"title\\\": \\\"HTTP vs. WebSockets: Which one is the fastest for Postgres queries at the Edge\\\",\\n    \\\"url\\\": \\\"neon.tech\\\",\\n    \\\"points\\\": 45,\\n    \\\"comments\\\": 13\\n  },\\n  {\\n    \\\"id\\\": \\\"15\\\",\\n    \\\"title\\\": \\\"Shop Class 2.0: Rethinking High School to Accelerate Electrification\\\",\\n    \\\"url\\\": \\\"volted.substack.com\\\",\\n    \\\"points\\\": 16,\\n    \\\"comments\\\": 6\\n  },\\n  {\\n    \\\"id\\\": \\\"16\\\",\\n    \\\"title\\\": \\\"AI Safety and the Age of Dislightenment\\\",\\n    \\\"url\\\": \\\"fast.ai\\\",\\n    \\\"points\\\": 94,\\n    \\\"comments\\\": 94\\n  },\\n  {\\n    \\\"id\\\": \\\"17\\\",\\n    \\\"title\\\": \\\"GitHub Profile Achievements\\\",\\n    \\\"url\\\": \\\"cqcumbers.com\\\",\\n    \\\"points\\\": 64,\\n    \\\"comments\\\": 36\\n  },\\n  {\\n    \\\"id\\\": \\\"18\\\",\\n    \\\"title\\\": \\\"The Magic of Dependency Resolution\\\",\\n    \\\"url\\\": \\\"ochagavia.nl\\\",\\n    \\\"points\\\": 5,\\n    \\\"comments\\\": null\\n  },\\n  {\\n    \\\"id\\\": \\\"19\\\",\\n    \\\"title\\\": \\\"Space After Periods (1993)\\\",\\n    \\\"url\\\": \\\"webhistory.org\\\",\\n    \\\"points\\\": 81,\\n    \\\"comments\\\": 45\\n  },\\n  {\\n    \\\"id\\\": \\\"20\\\",\\n    \\\"title\\\": \\\"GPT-Prompt-Engineer\\\",\\n    \\\"url\\\": \\\"github.com/mshumer\\\",\\n    \\\"points\\\": 277,\\n    \\\"comments\\\": 116\\n  },\\n  {\\n    \\\"id\\\": \\\"21\\\",\\n    \\\"title\\\": \\\"The mystery of the Ain Dubai, the world\\u2019s largest (broken) Ferris wheel\\\",\\n    \\\"url\\\": \\\"washingtonpost.com\\\",\\n    \\\"points\\\": 13,\\n    \\\"comments\\\": 5\\n  },\\n  {\\n    \\\"id\\\": \\\"22\\\",\\n    \\\"title\\\": \\\"Back-end parallelism in the Rust compiler\\\",\\n    \\\"url\\\": \\\"nnethercote.github.io\\\",\\n    \\\"points\\\": 127,\\n    \\\"comments\\\": 9\\n  },\\n  {\\n    \\\"id\\\": \\\"23\\\",\\n    \\\"title\\\": \\\"At Japan\\u2019s first winery, the country\\u2019s oldest grape lives on\\\",\\n    \\\"url\\\": \\\"japantimes.co.jp\\\",\\n    \\\"points\\\": 59,\\n    \\\"comments\\\": 41\\n  },\\n  {\\n    \\\"id\\\": \\\"24\\\",\\n    \\\"title\\\": \\\"Solar Energy Solves Global Warming\\\",\\n    \\\"url\\\": \\\"tomaspueyo.com\\\",\\n    \\\"points\\\": 61,\\n    \\\"comments\\\": 48\\n  },\\n  {\\n    \\\"id\\\": \\\"25\\\",\\n    \\\"title\\\": \\\"GPT-4 details leaked?\\\",\\n    \\\"url\\\": \\\"threadreaderapp.com\\\",\\n    \\\"points\\\": 531,\\n    \\\"comments\\\": 451\\n  },\\n  {\\n    \\\"id\\\": \\\"26\\\",\\n    \\\"title\\\": \\\"Roots of Trust Are Difficult\\\",\\n    \\\"url\\\": \\\"mjg59.dreamwidth.org\\\",\\n    \\\"points\\\": 61,\\n    \\\"comments\\\": 25\\n  },\\n  {\\n    \\\"id\\\": \\\"27\\\",\\n    \\\"title\\\": \\\"IntelliJ Rust\\\",\\n    \\\"url\\\": \\\"jetbrains.com\\\",\\n    \\\"points\\\": 72,\\n    \\\"comments\\\": 28\\n  },\\n  {\\n    \\\"id\\\": \\\"28\\\",\\n    \\\"title\\\": \\\"There's always more history (2020)\\\",\\n    \\\"url\\\": \\\"hillelwayne.com\\\",\\n    \\\"points\\\": 35,\\n    \\\"comments\\\": 6\\n  },\\n  {\\n    \\\"id\\\": \\\"29\\\",\\n    \\\"title\\\": \\\"Threads and the Social/Communications Map\\\",\\n    \\\"url\\\": \\\"stratechery.com\\\",\\n    \\\"points\\\": 48,\\n    \\\"comments\\\": 34\\n  },\\n  {\\n    \\\"id\\\": \\\"30\\\",\\n    \\\"title\\\": \\\"The story in pictures of the Hughes H-4 Hercules, 1945-1947\\\",\\n    \\\"url\\\": \\\"rarehistoricalphotos.com\\\",\\n    \\\"points\\\": 16,\\n    \\\"comments\\\": 4\\n  }\\n]\"\n",
      "        }\n",
      "      },\n",
      "      \"finish_reason\": \"stop\"\n",
      "    }\n",
      "  ],\n",
      "  \"usage\": {\n",
      "    \"prompt_tokens\": 1329,\n",
      "    \"completion_tokens\": 1554,\n",
      "    \"total_tokens\": 2883\n",
      "  }\n",
      "}\n"
     ]
    },
    {
     "data": {
      "text/plain": [
       "[[{'id': '1',\n",
       "   'title': 'Displayport: A Better Video Interface',\n",
       "   'url': 'hackaday.com',\n",
       "   'points': 139,\n",
       "   'comments': 98},\n",
       "  {'id': '2',\n",
       "   'title': 'Emacs GUI Library',\n",
       "   'url': 'andreyor.st',\n",
       "   'points': 41,\n",
       "   'comments': 10},\n",
       "  {'id': '3',\n",
       "   'title': 'Introducing Keras Core: Keras for TensorFlow, Jax, and PyTorch',\n",
       "   'url': 'keras.io',\n",
       "   'points': 59,\n",
       "   'comments': 20},\n",
       "  {'id': '4',\n",
       "   'title': \"Google's new metrics: Interaction to Next Paint (INP)\",\n",
       "   'url': 'web.dev',\n",
       "   'points': 33,\n",
       "   'comments': 9},\n",
       "  {'id': '5',\n",
       "   'title': 'PhotoPrism: Browse Your Life in Pictures',\n",
       "   'url': 'github.com/photoprism',\n",
       "   'points': 194,\n",
       "   'comments': 103},\n",
       "  {'id': '6',\n",
       "   'title': 'We put a distributed database in the browser and made a game of it',\n",
       "   'url': 'tigerbeetle.com',\n",
       "   'points': 112,\n",
       "   'comments': 25},\n",
       "  {'id': '7',\n",
       "   'title': 'C++23: The Next C++ Standard',\n",
       "   'url': 'modernescpp.com',\n",
       "   'points': 94,\n",
       "   'comments': 58},\n",
       "  {'id': '8',\n",
       "   'title': 'Show HN: Clickvote – Open-source upvotes, likes, and reviews to any context',\n",
       "   'url': 'github.com/clickvote',\n",
       "   'points': 35,\n",
       "   'comments': 25},\n",
       "  {'id': '9',\n",
       "   'title': 'What we learned from using GPT for 500k+ classifications',\n",
       "   'url': 'trygloo.com',\n",
       "   'points': 36,\n",
       "   'comments': 4},\n",
       "  {'id': '10',\n",
       "   'title': 'Laws of UX',\n",
       "   'url': 'lawsofux.com',\n",
       "   'points': 58,\n",
       "   'comments': 34},\n",
       "  {'id': '11',\n",
       "   'title': 'Firejail: Light, featureful and zero-dependency security sandbox for Linux',\n",
       "   'url': 'firejail.wordpress.com',\n",
       "   'points': 29,\n",
       "   'comments': 11},\n",
       "  {'id': '12',\n",
       "   'title': 'ScyllaDB is Moving to a New Replication Algorithm: Tablets',\n",
       "   'url': 'scylladb.com',\n",
       "   'points': 41,\n",
       "   'comments': 11},\n",
       "  {'id': '13',\n",
       "   'title': 'Claude 2 Model Card [pdf]',\n",
       "   'url': 'anthropic.com',\n",
       "   'points': 29,\n",
       "   'comments': 4},\n",
       "  {'id': '14',\n",
       "   'title': 'HTTP vs. WebSockets: Which one is the fastest for Postgres queries at the Edge',\n",
       "   'url': 'neon.tech',\n",
       "   'points': 45,\n",
       "   'comments': 13},\n",
       "  {'id': '15',\n",
       "   'title': 'Shop Class 2.0: Rethinking High School to Accelerate Electrification',\n",
       "   'url': 'volted.substack.com',\n",
       "   'points': 16,\n",
       "   'comments': 6},\n",
       "  {'id': '16',\n",
       "   'title': 'AI Safety and the Age of Dislightenment',\n",
       "   'url': 'fast.ai',\n",
       "   'points': 94,\n",
       "   'comments': 94},\n",
       "  {'id': '17',\n",
       "   'title': 'GitHub Profile Achievements',\n",
       "   'url': 'cqcumbers.com',\n",
       "   'points': 64,\n",
       "   'comments': 36},\n",
       "  {'id': '18',\n",
       "   'title': 'The Magic of Dependency Resolution',\n",
       "   'url': 'ochagavia.nl',\n",
       "   'points': 5,\n",
       "   'comments': None},\n",
       "  {'id': '19',\n",
       "   'title': 'Space After Periods (1993)',\n",
       "   'url': 'webhistory.org',\n",
       "   'points': 81,\n",
       "   'comments': 45},\n",
       "  {'id': '20',\n",
       "   'title': 'GPT-Prompt-Engineer',\n",
       "   'url': 'github.com/mshumer',\n",
       "   'points': 277,\n",
       "   'comments': 116},\n",
       "  {'id': '21',\n",
       "   'title': 'The mystery of the Ain Dubai, the world’s largest (broken) Ferris wheel',\n",
       "   'url': 'washingtonpost.com',\n",
       "   'points': 13,\n",
       "   'comments': 5},\n",
       "  {'id': '22',\n",
       "   'title': 'Back-end parallelism in the Rust compiler',\n",
       "   'url': 'nnethercote.github.io',\n",
       "   'points': 127,\n",
       "   'comments': 9},\n",
       "  {'id': '23',\n",
       "   'title': 'At Japan’s first winery, the country’s oldest grape lives on',\n",
       "   'url': 'japantimes.co.jp',\n",
       "   'points': 59,\n",
       "   'comments': 41},\n",
       "  {'id': '24',\n",
       "   'title': 'Solar Energy Solves Global Warming',\n",
       "   'url': 'tomaspueyo.com',\n",
       "   'points': 61,\n",
       "   'comments': 48},\n",
       "  {'id': '25',\n",
       "   'title': 'GPT-4 details leaked?',\n",
       "   'url': 'threadreaderapp.com',\n",
       "   'points': 531,\n",
       "   'comments': 451},\n",
       "  {'id': '26',\n",
       "   'title': 'Roots of Trust Are Difficult',\n",
       "   'url': 'mjg59.dreamwidth.org',\n",
       "   'points': 61,\n",
       "   'comments': 25},\n",
       "  {'id': '27',\n",
       "   'title': 'IntelliJ Rust',\n",
       "   'url': 'jetbrains.com',\n",
       "   'points': 72,\n",
       "   'comments': 28},\n",
       "  {'id': '28',\n",
       "   'title': \"There's always more history (2020)\",\n",
       "   'url': 'hillelwayne.com',\n",
       "   'points': 35,\n",
       "   'comments': 6},\n",
       "  {'id': '29',\n",
       "   'title': 'Threads and the Social/Communications Map',\n",
       "   'url': 'stratechery.com',\n",
       "   'points': 48,\n",
       "   'comments': 34},\n",
       "  {'id': '30',\n",
       "   'title': 'The story in pictures of the Hughes H-4 Hercules, 1945-1947',\n",
       "   'url': 'rarehistoricalphotos.com',\n",
       "   'points': 16,\n",
       "   'comments': 4}]]"
      ]
     },
     "execution_count": 28,
     "metadata": {},
     "output_type": "execute_result"
    }
   ],
   "source": [
    "messages = [\n",
    "        {\n",
    "            \"role\": \"system\",\n",
    "            \"content\": \"Your task is to return a structured list of Hacker News posts given a list of Hacker News posts.\"\n",
    "        },\n",
    "        {\n",
    "            \"role\": \"user\",\n",
    "            \"content\": f\"Here is the list: {HN_LINKS}. Return the full list:\"\n",
    "        }\n",
    "    ]\n",
    "\n",
    "response = get_completion(messages, functions, {\"name\": \"get_news_links\"})\n",
    "choices = response[\"choices\"]\n",
    "final_object = [json.loads(choices[i][\"message\"][\"function_call\"][\"arguments\"]) for i in range(len(choices))]\n",
    "final_object"
   ]
  },
  {
   "attachments": {},
   "cell_type": "markdown",
   "metadata": {},
   "source": [
    "This can then be the information to be passed to something like an API. The API then responds back with some information that you can then pass back to GPT to compose a reply if it was a chatbot."
   ]
  }
 ],
 "metadata": {
  "kernelspec": {
   "display_name": "langchain",
   "language": "python",
   "name": "python3"
  },
  "language_info": {
   "codemirror_mode": {
    "name": "ipython",
    "version": 3
   },
   "file_extension": ".py",
   "mimetype": "text/x-python",
   "name": "python",
   "nbconvert_exporter": "python",
   "pygments_lexer": "ipython3",
   "version": "3.9.16"
  },
  "orig_nbformat": 4
 },
 "nbformat": 4,
 "nbformat_minor": 2
}

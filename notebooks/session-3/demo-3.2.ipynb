{
 "cells": [
  {
   "attachments": {},
   "cell_type": "markdown",
   "metadata": {},
   "source": [
    "# Session 3 | Demo 3.2 - Fine-tuning vs. Prompting \n",
    "\n",
    "<a href=\"https://colab.research.google.com/github/dair-ai/maven-pe-for-llms-4/blob/main/notebooks/session-3/demo-3.2.ipynb\" target=\"_parent\"><img src=\"https://colab.research.google.com/assets/colab-badge.svg\" alt=\"Open In Colab\"/></a>"
   ]
  },
  {
   "attachments": {},
   "cell_type": "markdown",
   "metadata": {},
   "source": [
    "The demo shows a comparison on fine-tuned results vs. few-shot learning and zero-shot learning results."
   ]
  },
  {
   "cell_type": "code",
   "execution_count": 1,
   "metadata": {},
   "outputs": [],
   "source": [
    "# load libraries\n",
    "import openai\n",
    "import os\n",
    "import IPython\n",
    "from langchain.llms import OpenAI\n",
    "from dotenv import load_dotenv\n",
    "import json\n",
    "\n",
    "# load the environment variables\n",
    "load_dotenv()\n",
    "\n",
    "# set the OpenAI API key\n",
    "openai.api_key = os.getenv(\"OPENAI_API_KEY\")"
   ]
  },
  {
   "cell_type": "code",
   "execution_count": 2,
   "metadata": {},
   "outputs": [],
   "source": [
    "def set_open_params(\n",
    "    model=\"text-davinci-003\",\n",
    "    temperature=0.7,\n",
    "    max_tokens=256,\n",
    "    top_p=1,\n",
    "    frequency_penalty=0,\n",
    "    presence_penalty=0,\n",
    "    stop=\"\"\n",
    "):\n",
    "    \"\"\" set openai parameters\"\"\"\n",
    "\n",
    "    openai_params = {}    \n",
    "\n",
    "    openai_params['model'] = model\n",
    "    openai_params['temperature'] = temperature\n",
    "    openai_params['max_tokens'] = max_tokens\n",
    "    openai_params['top_p'] = top_p\n",
    "    openai_params['frequency_penalty'] = frequency_penalty\n",
    "    openai_params['presence_penalty'] = presence_penalty\n",
    "    openai_params['stop'] = stop\n",
    "    return openai_params\n",
    "\n",
    "def get_completion(params, prompt):\n",
    "    \"\"\" GET completion from openai api\"\"\"\n",
    "\n",
    "    response = openai.Completion.create(\n",
    "        engine = params['model'],\n",
    "        prompt = prompt,\n",
    "        temperature = params['temperature'],\n",
    "        max_tokens = params['max_tokens'],\n",
    "        top_p = params['top_p'],\n",
    "        frequency_penalty = params['frequency_penalty'],\n",
    "        presence_penalty = params['presence_penalty'],\n",
    "        stop = params['stop']\n",
    "    )\n",
    "    return response"
   ]
  },
  {
   "cell_type": "code",
   "execution_count": 3,
   "metadata": {},
   "outputs": [],
   "source": [
    "# basic example\n",
    "params = set_open_params(model=\"curie:ft-dair:emotionft-2023-04-19-23-24-21\", stop=[\"\\n\"])\n",
    "\n",
    "prompt = \"I am summer happy!\\n\\n###\\n\\n\"\n",
    "\n",
    "response = get_completion(params, prompt)"
   ]
  },
  {
   "cell_type": "code",
   "execution_count": 4,
   "metadata": {},
   "outputs": [
    {
     "data": {
      "text/plain": [
       "<OpenAIObject text_completion id=cmpl-7FUbhSyrKl1N7xXjQvJ3smqSzxvUS at 0x7f98721226d0> JSON: {\n",
       "  \"choices\": [\n",
       "    {\n",
       "      \"finish_reason\": \"stop\",\n",
       "      \"index\": 0,\n",
       "      \"logprobs\": null,\n",
       "      \"text\": \" joy\"\n",
       "    }\n",
       "  ],\n",
       "  \"created\": 1683926929,\n",
       "  \"id\": \"cmpl-7FUbhSyrKl1N7xXjQvJ3smqSzxvUS\",\n",
       "  \"model\": \"curie:ft-dair:emotionft-2023-04-19-23-24-21\",\n",
       "  \"object\": \"text_completion\",\n",
       "  \"usage\": {\n",
       "    \"completion_tokens\": 1,\n",
       "    \"prompt_tokens\": 9,\n",
       "    \"total_tokens\": 10\n",
       "  }\n",
       "}"
      ]
     },
     "execution_count": 4,
     "metadata": {},
     "output_type": "execute_result"
    }
   ],
   "source": [
    "response"
   ]
  },
  {
   "cell_type": "code",
   "execution_count": 6,
   "metadata": {},
   "outputs": [],
   "source": [
    "# basic example\n",
    "params = set_open_params(model=\"text-davinci-003\")\n",
    "\n",
    "prompt = \"\"\"\n",
    "Your task is to classify a piece of text into either of the following labels: \"anger\", \"fear\", \"joy\", \"love\", \"sadness\", and \"surprise\".\n",
    "\n",
    "Just output the label as a lowercase string.\n",
    "\n",
    "Text: {text_input}\n",
    "Output:\n",
    "\"\"\"\n",
    "response = get_completion(params, prompt.format(text_input=\"I am summer happy!\"))"
   ]
  },
  {
   "cell_type": "code",
   "execution_count": 7,
   "metadata": {},
   "outputs": [
    {
     "data": {
      "text/plain": [
       "<OpenAIObject text_completion id=cmpl-7FUbvXgiaVVR4LRJazps2BsQA23Xm at 0x7f9870ca4540> JSON: {\n",
       "  \"choices\": [\n",
       "    {\n",
       "      \"finish_reason\": \"stop\",\n",
       "      \"index\": 0,\n",
       "      \"logprobs\": null,\n",
       "      \"text\": \"joy\"\n",
       "    }\n",
       "  ],\n",
       "  \"created\": 1683926943,\n",
       "  \"id\": \"cmpl-7FUbvXgiaVVR4LRJazps2BsQA23Xm\",\n",
       "  \"model\": \"text-davinci-003\",\n",
       "  \"object\": \"text_completion\",\n",
       "  \"usage\": {\n",
       "    \"completion_tokens\": 1,\n",
       "    \"prompt_tokens\": 65,\n",
       "    \"total_tokens\": 66\n",
       "  }\n",
       "}"
      ]
     },
     "execution_count": 7,
     "metadata": {},
     "output_type": "execute_result"
    }
   ],
   "source": [
    "response"
   ]
  },
  {
   "cell_type": "code",
   "execution_count": 8,
   "metadata": {},
   "outputs": [],
   "source": [
    "# import jsonl file and convert to Pandas dataframe   \n",
    "import pandas as pd\n",
    "\n",
    "df = pd.read_json(\"../data/merged_training_sample_100_prepared_valid.jsonl\", lines=True)\n"
   ]
  },
  {
   "cell_type": "code",
   "execution_count": 9,
   "metadata": {},
   "outputs": [
    {
     "data": {
      "text/html": [
       "<div>\n",
       "<style scoped>\n",
       "    .dataframe tbody tr th:only-of-type {\n",
       "        vertical-align: middle;\n",
       "    }\n",
       "\n",
       "    .dataframe tbody tr th {\n",
       "        vertical-align: top;\n",
       "    }\n",
       "\n",
       "    .dataframe thead th {\n",
       "        text-align: right;\n",
       "    }\n",
       "</style>\n",
       "<table border=\"1\" class=\"dataframe\">\n",
       "  <thead>\n",
       "    <tr style=\"text-align: right;\">\n",
       "      <th></th>\n",
       "      <th>prompt</th>\n",
       "      <th>completion</th>\n",
       "    </tr>\n",
       "  </thead>\n",
       "  <tbody>\n",
       "    <tr>\n",
       "      <th>0</th>\n",
       "      <td>i feel it has only been agitated by the presen...</td>\n",
       "      <td>fear\\n</td>\n",
       "    </tr>\n",
       "    <tr>\n",
       "      <th>1</th>\n",
       "      <td>i thought as i can often feel the rather unple...</td>\n",
       "      <td>sadness\\n</td>\n",
       "    </tr>\n",
       "    <tr>\n",
       "      <th>2</th>\n",
       "      <td>i can t hear her with all the other kids and m...</td>\n",
       "      <td>fear\\n</td>\n",
       "    </tr>\n",
       "    <tr>\n",
       "      <th>3</th>\n",
       "      <td>i am sure i will feel this longing again when ...</td>\n",
       "      <td>love\\n</td>\n",
       "    </tr>\n",
       "    <tr>\n",
       "      <th>4</th>\n",
       "      <td>i had been having sexual feelings and romantic...</td>\n",
       "      <td>love\\n</td>\n",
       "    </tr>\n",
       "    <tr>\n",
       "      <th>...</th>\n",
       "      <td>...</td>\n",
       "      <td>...</td>\n",
       "    </tr>\n",
       "    <tr>\n",
       "      <th>115</th>\n",
       "      <td>i feel bashful discussing it i m a closet game...</td>\n",
       "      <td>fear\\n</td>\n",
       "    </tr>\n",
       "    <tr>\n",
       "      <th>116</th>\n",
       "      <td>i was feeling agitated and giddy all at the sa...</td>\n",
       "      <td>fear\\n</td>\n",
       "    </tr>\n",
       "    <tr>\n",
       "      <th>117</th>\n",
       "      <td>i feel restless though and know if i close my ...</td>\n",
       "      <td>fear\\n</td>\n",
       "    </tr>\n",
       "    <tr>\n",
       "      <th>118</th>\n",
       "      <td>i report my feelings on the ex a movie about w...</td>\n",
       "      <td>fear\\n</td>\n",
       "    </tr>\n",
       "    <tr>\n",
       "      <th>119</th>\n",
       "      <td>i put it down on paper like this i don t feel ...</td>\n",
       "      <td>fear\\n</td>\n",
       "    </tr>\n",
       "  </tbody>\n",
       "</table>\n",
       "<p>120 rows × 2 columns</p>\n",
       "</div>"
      ],
      "text/plain": [
       "                                                prompt  completion\n",
       "0    i feel it has only been agitated by the presen...      fear\\n\n",
       "1    i thought as i can often feel the rather unple...   sadness\\n\n",
       "2    i can t hear her with all the other kids and m...      fear\\n\n",
       "3    i am sure i will feel this longing again when ...      love\\n\n",
       "4    i had been having sexual feelings and romantic...      love\\n\n",
       "..                                                 ...         ...\n",
       "115  i feel bashful discussing it i m a closet game...      fear\\n\n",
       "116  i was feeling agitated and giddy all at the sa...      fear\\n\n",
       "117  i feel restless though and know if i close my ...      fear\\n\n",
       "118  i report my feelings on the ex a movie about w...      fear\\n\n",
       "119  i put it down on paper like this i don t feel ...      fear\\n\n",
       "\n",
       "[120 rows x 2 columns]"
      ]
     },
     "execution_count": 9,
     "metadata": {},
     "output_type": "execute_result"
    }
   ],
   "source": [
    "df"
   ]
  },
  {
   "cell_type": "code",
   "execution_count": 10,
   "metadata": {},
   "outputs": [
    {
     "data": {
      "text/plain": [
       "['i feel it has only been agitated by the presence of the smoking\\n\\n###\\n\\n',\n",
       " 'i thought as i can often feel the rather unpleasant sensation of the babys head trying to stick out of my stomach up near my ribs\\n\\n###\\n\\n',\n",
       " 'i can t hear her with all the other kids and mums and nannies around me no dads of course but i m so used to being the only dad in a sea of mums and nannies that it doesn t even feel weird any more\\n\\n###\\n\\n',\n",
       " 'i am sure i will feel this longing again when i go visit my dear friend in the hospital and hold her new little boy in my arms but i will go home and hold my little girl and remember god has chosen this path for me for a reason and maybe one day i will be able to put this longing behind me\\n\\n###\\n\\n',\n",
       " 'i had been having sexual feelings and romantic longings for years and unlike my straight peers i had kept it all bottled up\\n\\n###\\n\\n']"
      ]
     },
     "execution_count": 10,
     "metadata": {},
     "output_type": "execute_result"
    }
   ],
   "source": [
    "df.prompt.tolist()[0:5]"
   ]
  },
  {
   "attachments": {},
   "cell_type": "markdown",
   "metadata": {},
   "source": [
    "### Predictions from our fine-tuned model"
   ]
  },
  {
   "cell_type": "code",
   "execution_count": 11,
   "metadata": {},
   "outputs": [],
   "source": [
    "params = set_open_params(model=\"curie:ft-dair:emotionft-2023-04-19-23-24-21\", stop=[\"\\n\"])\n",
    "\n",
    "prompt = \"I am summer happy!\\n\\n###\\n\\n\"\n",
    "\n",
    "response = get_completion(params, df.prompt.tolist()[0:5])"
   ]
  },
  {
   "cell_type": "code",
   "execution_count": 13,
   "metadata": {},
   "outputs": [],
   "source": [
    "# batch the prompts from df.prompt.tolist() into batches of 10\n",
    "prompt_batches = [df.prompt.tolist()[i:i + 10] for i in range(0, len(df.prompt.tolist()), 10)]"
   ]
  },
  {
   "cell_type": "code",
   "execution_count": 15,
   "metadata": {},
   "outputs": [],
   "source": [
    "params = set_open_params(model=\"curie:ft-dair:emotionft-2023-04-19-23-24-21\", stop=[\"\\n\"])\n",
    "\n",
    "finetuned_responses = []\n",
    "\n",
    "for batch in prompt_batches:\n",
    "    response = get_completion(params, batch)\n",
    "    finetuned_responses.append([c.text.strip(\" \") for c in response.choices])"
   ]
  },
  {
   "cell_type": "code",
   "execution_count": 16,
   "metadata": {},
   "outputs": [
    {
     "data": {
      "text/plain": [
       "(0        fear\\n\n",
       " 1     sadness\\n\n",
       " 2        fear\\n\n",
       " Name: completion, dtype: object,\n",
       " ['i feel it has only been agitated by the presence of the smoking\\n\\n###\\n\\n',\n",
       "  'i thought as i can often feel the rather unpleasant sensation of the babys head trying to stick out of my stomach up near my ribs\\n\\n###\\n\\n',\n",
       "  'i can t hear her with all the other kids and mums and nannies around me no dads of course but i m so used to being the only dad in a sea of mums and nannies that it doesn t even feel weird any more\\n\\n###\\n\\n'],\n",
       " ['fear', 'anger', 'surprise'])"
      ]
     },
     "execution_count": 16,
     "metadata": {},
     "output_type": "execute_result"
    }
   ],
   "source": [
    "df.completion[0:3], prompt_batches[0][0:3], finetuned_responses[0][0:3]"
   ]
  },
  {
   "attachments": {},
   "cell_type": "markdown",
   "metadata": {},
   "source": [
    "### Predictions from GPT-3 Model"
   ]
  },
  {
   "attachments": {},
   "cell_type": "markdown",
   "metadata": {},
   "source": [
    "This prompt can be improved as it sometimes outputs other emotions like relief. the way i deal with this is be mapping it after I get the responses."
   ]
  },
  {
   "cell_type": "code",
   "execution_count": 17,
   "metadata": {},
   "outputs": [],
   "source": [
    "# zero-shot prompt\n",
    "zeroshot_prompt = \"\"\"\n",
    "Your task is to classify a piece of text, delimited by triple backticks, into the following emotion labels: [\"anger\", \"fear\", \"joy\", \"love\", \"sadness\", \"surprise\"].\n",
    "\n",
    "Just output the label as a lowercase string.\n",
    "\n",
    "Text: ```{text_input}```\n",
    "Output emotion label:\n",
    "\"\"\""
   ]
  },
  {
   "cell_type": "code",
   "execution_count": 20,
   "metadata": {},
   "outputs": [],
   "source": [
    "# python double for loop comprehension list\n",
    "promptified_prompts_batches = [[zeroshot_prompt.format(text_input=prompt.strip(\"\\n\\n###\\n\\n\")) for prompt in batch] for batch in prompt_batches]"
   ]
  },
  {
   "cell_type": "code",
   "execution_count": 22,
   "metadata": {},
   "outputs": [],
   "source": [
    "# ~15 seconds\n",
    "\n",
    "params = set_open_params(model=\"text-davinci-003\", temperature=0)\n",
    "\n",
    "gpt3_responses = []\n",
    "\n",
    "for batch in promptified_prompts_batches:\n",
    "    response = get_completion(params, batch)\n",
    "    gpt3_responses.append([c.text.strip(\"\\n\") for c in response.choices])"
   ]
  },
  {
   "cell_type": "code",
   "execution_count": 23,
   "metadata": {},
   "outputs": [],
   "source": [
    "# flatten the list of lists\n",
    "gpt3_responses_flat = [item for sublist in gpt3_responses for item in sublist]\n",
    "finetuned_responses_flat = [item for sublist in finetuned_responses for item in sublist]\n",
    "\n",
    "df[\"gpt3-completion\"] = gpt3_responses_flat\n",
    "df[\"finetuned-completion\"] = finetuned_responses_flat\n",
    "\n",
    "# fix the completion labels\n",
    "\n",
    "df[\"completion\"] = df[\"completion\"].apply(lambda x: x.strip(\"\\n\").strip(\" \"))"
   ]
  },
  {
   "cell_type": "code",
   "execution_count": 24,
   "metadata": {},
   "outputs": [],
   "source": [
    "# map \"relief\" to \"sadness\" for the gpt3-completion\n",
    "df[\"gpt3-completion\"] = df[\"gpt3-completion\"].apply(lambda x: \"sadness\" if x == \"relief\" else x)"
   ]
  },
  {
   "cell_type": "code",
   "execution_count": 25,
   "metadata": {},
   "outputs": [
    {
     "data": {
      "text/plain": [
       "array(['anger', 'sadness', 'love', 'surprise', 'joy', 'fear'],\n",
       "      dtype=object)"
      ]
     },
     "execution_count": 25,
     "metadata": {},
     "output_type": "execute_result"
    }
   ],
   "source": [
    "df[\"gpt3-completion\"].unique()"
   ]
  },
  {
   "cell_type": "code",
   "execution_count": 26,
   "metadata": {},
   "outputs": [
    {
     "data": {
      "text/plain": [
       "array(['fear', 'anger', 'surprise', 'love', 'joy', 'sadness'],\n",
       "      dtype=object)"
      ]
     },
     "execution_count": 26,
     "metadata": {},
     "output_type": "execute_result"
    }
   ],
   "source": [
    "df[\"finetuned-completion\"].unique()"
   ]
  },
  {
   "cell_type": "code",
   "execution_count": 28,
   "metadata": {},
   "outputs": [
    {
     "data": {
      "text/html": [
       "<div>\n",
       "<style scoped>\n",
       "    .dataframe tbody tr th:only-of-type {\n",
       "        vertical-align: middle;\n",
       "    }\n",
       "\n",
       "    .dataframe tbody tr th {\n",
       "        vertical-align: top;\n",
       "    }\n",
       "\n",
       "    .dataframe thead th {\n",
       "        text-align: right;\n",
       "    }\n",
       "</style>\n",
       "<table border=\"1\" class=\"dataframe\">\n",
       "  <thead>\n",
       "    <tr style=\"text-align: right;\">\n",
       "      <th></th>\n",
       "      <th>prompt</th>\n",
       "      <th>completion</th>\n",
       "      <th>gpt3-completion</th>\n",
       "      <th>finetuned-completion</th>\n",
       "    </tr>\n",
       "  </thead>\n",
       "  <tbody>\n",
       "    <tr>\n",
       "      <th>0</th>\n",
       "      <td>i feel it has only been agitated by the presen...</td>\n",
       "      <td>fear</td>\n",
       "      <td>anger</td>\n",
       "      <td>fear</td>\n",
       "    </tr>\n",
       "    <tr>\n",
       "      <th>1</th>\n",
       "      <td>i thought as i can often feel the rather unple...</td>\n",
       "      <td>sadness</td>\n",
       "      <td>sadness</td>\n",
       "      <td>anger</td>\n",
       "    </tr>\n",
       "    <tr>\n",
       "      <th>2</th>\n",
       "      <td>i can t hear her with all the other kids and m...</td>\n",
       "      <td>fear</td>\n",
       "      <td>sadness</td>\n",
       "      <td>surprise</td>\n",
       "    </tr>\n",
       "    <tr>\n",
       "      <th>3</th>\n",
       "      <td>i am sure i will feel this longing again when ...</td>\n",
       "      <td>love</td>\n",
       "      <td>love</td>\n",
       "      <td>love</td>\n",
       "    </tr>\n",
       "    <tr>\n",
       "      <th>4</th>\n",
       "      <td>i had been having sexual feelings and romantic...</td>\n",
       "      <td>love</td>\n",
       "      <td>sadness</td>\n",
       "      <td>love</td>\n",
       "    </tr>\n",
       "    <tr>\n",
       "      <th>...</th>\n",
       "      <td>...</td>\n",
       "      <td>...</td>\n",
       "      <td>...</td>\n",
       "      <td>...</td>\n",
       "    </tr>\n",
       "    <tr>\n",
       "      <th>115</th>\n",
       "      <td>i feel bashful discussing it i m a closet game...</td>\n",
       "      <td>fear</td>\n",
       "      <td>sadness</td>\n",
       "      <td>fear</td>\n",
       "    </tr>\n",
       "    <tr>\n",
       "      <th>116</th>\n",
       "      <td>i was feeling agitated and giddy all at the sa...</td>\n",
       "      <td>fear</td>\n",
       "      <td>surprise</td>\n",
       "      <td>fear</td>\n",
       "    </tr>\n",
       "    <tr>\n",
       "      <th>117</th>\n",
       "      <td>i feel restless though and know if i close my ...</td>\n",
       "      <td>fear</td>\n",
       "      <td>sadness</td>\n",
       "      <td>fear</td>\n",
       "    </tr>\n",
       "    <tr>\n",
       "      <th>118</th>\n",
       "      <td>i report my feelings on the ex a movie about w...</td>\n",
       "      <td>fear</td>\n",
       "      <td>sadness</td>\n",
       "      <td>fear</td>\n",
       "    </tr>\n",
       "    <tr>\n",
       "      <th>119</th>\n",
       "      <td>i put it down on paper like this i don t feel ...</td>\n",
       "      <td>fear</td>\n",
       "      <td>sadness</td>\n",
       "      <td>fear</td>\n",
       "    </tr>\n",
       "  </tbody>\n",
       "</table>\n",
       "<p>120 rows × 4 columns</p>\n",
       "</div>"
      ],
      "text/plain": [
       "                                                prompt completion  \\\n",
       "0    i feel it has only been agitated by the presen...       fear   \n",
       "1    i thought as i can often feel the rather unple...    sadness   \n",
       "2    i can t hear her with all the other kids and m...       fear   \n",
       "3    i am sure i will feel this longing again when ...       love   \n",
       "4    i had been having sexual feelings and romantic...       love   \n",
       "..                                                 ...        ...   \n",
       "115  i feel bashful discussing it i m a closet game...       fear   \n",
       "116  i was feeling agitated and giddy all at the sa...       fear   \n",
       "117  i feel restless though and know if i close my ...       fear   \n",
       "118  i report my feelings on the ex a movie about w...       fear   \n",
       "119  i put it down on paper like this i don t feel ...       fear   \n",
       "\n",
       "    gpt3-completion finetuned-completion  \n",
       "0             anger                 fear  \n",
       "1           sadness                anger  \n",
       "2           sadness             surprise  \n",
       "3              love                 love  \n",
       "4           sadness                 love  \n",
       "..              ...                  ...  \n",
       "115         sadness                 fear  \n",
       "116        surprise                 fear  \n",
       "117         sadness                 fear  \n",
       "118         sadness                 fear  \n",
       "119         sadness                 fear  \n",
       "\n",
       "[120 rows x 4 columns]"
      ]
     },
     "execution_count": 28,
     "metadata": {},
     "output_type": "execute_result"
    }
   ],
   "source": [
    "df"
   ]
  },
  {
   "cell_type": "code",
   "execution_count": 29,
   "metadata": {},
   "outputs": [],
   "source": [
    "# write the dataframe to a pickle file\n",
    "df.to_pickle(\"../data/finetuning-prompting-completions.pkl\")"
   ]
  },
  {
   "attachments": {},
   "cell_type": "markdown",
   "metadata": {},
   "source": [
    "## Perform Evaluation / Analysis"
   ]
  },
  {
   "cell_type": "code",
   "execution_count": 2,
   "metadata": {},
   "outputs": [],
   "source": [
    "import pandas as pd\n",
    "\n",
    "# load the pickle file from ../data/finetuning-prompting-completions.pkl\n",
    "df = pd.read_pickle(\"../data/finetuning-prompting-completions.pkl\")"
   ]
  },
  {
   "cell_type": "code",
   "execution_count": 3,
   "metadata": {},
   "outputs": [],
   "source": [
    "# map completion labels to integers\n",
    "completion_map = {\n",
    "    \"anger\": 0,\n",
    "    \"fear\": 1,\n",
    "    \"joy\": 2,\n",
    "    \"love\": 3,\n",
    "    \"sadness\": 4,\n",
    "    \"surprise\": 5\n",
    "}\n",
    "\n",
    "df[\"completion\"] = df[\"completion\"].map(completion_map)\n",
    "df[\"gpt3-completion\"] = df[\"gpt3-completion\"].map(completion_map)\n",
    "df[\"finetuned-completion\"] = df[\"finetuned-completion\"].map(completion_map)"
   ]
  },
  {
   "cell_type": "code",
   "execution_count": 4,
   "metadata": {},
   "outputs": [],
   "source": [
    "# mapper back to string labels\n",
    "completion_map_string = {\n",
    "    0: \"anger\",\n",
    "    1: \"fear\",\n",
    "    2: \"joy\",\n",
    "    3: \"love\",\n",
    "    4: \"sadness\",\n",
    "    5: \"surprise\"\n",
    "}"
   ]
  },
  {
   "cell_type": "code",
   "execution_count": 5,
   "metadata": {},
   "outputs": [
    {
     "data": {
      "text/plain": [
       "([<matplotlib.axis.YTick at 0x7fdbe8ac8f10>,\n",
       "  <matplotlib.axis.YTick at 0x7fdbe8ac8df0>,\n",
       "  <matplotlib.axis.YTick at 0x7fdbc861fb80>,\n",
       "  <matplotlib.axis.YTick at 0x7fdbc864da60>,\n",
       "  <matplotlib.axis.YTick at 0x7fdbc8651550>,\n",
       "  <matplotlib.axis.YTick at 0x7fdbc8651ca0>],\n",
       " [Text(0, 0, 'anger'),\n",
       "  Text(0, 1, 'fear'),\n",
       "  Text(0, 2, 'joy'),\n",
       "  Text(0, 3, 'love'),\n",
       "  Text(0, 4, 'sadness'),\n",
       "  Text(0, 5, 'surprise')])"
      ]
     },
     "execution_count": 5,
     "metadata": {},
     "output_type": "execute_result"
    },
    {
     "data": {
      "image/png": "[encoded data removed]",
      "text/plain": [
       "<Figure size 600x600 with 2 Axes>"
      ]
     },
     "metadata": {},
     "output_type": "display_data"
    }
   ],
   "source": [
    "# plot confustion matrix\n",
    "from sklearn.metrics import confusion_matrix\n",
    "import seaborn as sns\n",
    "import matplotlib.pyplot as plt\n",
    "\n",
    "confusion_matrix = confusion_matrix(df[\"completion\"], df[\"gpt3-completion\"])\n",
    "\n",
    "# plot confusion matrix\n",
    "plt.figure(figsize=(6, 6))\n",
    "sns.heatmap(confusion_matrix, annot=True, fmt=\".0f\", linewidths=0.5, square=True, cmap=\"Blues_r\")\n",
    "\n",
    "# add emotion labels to confusion matrix\n",
    "plt.ylabel(\"Actual label\")\n",
    "plt.xlabel(\"Predicted label\")\n",
    "\n",
    "# annotate the confusion matrix with completion labels\n",
    "tick_marks = [i for i in range(len(completion_map_string))]\n",
    "plt.xticks(tick_marks, list(completion_map_string.values()), rotation=\"vertical\")\n",
    "plt.yticks(tick_marks, list(completion_map_string.values()), rotation=\"horizontal\")\n"
   ]
  },
  {
   "cell_type": "code",
   "execution_count": 6,
   "metadata": {},
   "outputs": [
    {
     "data": {
      "text/plain": [
       "([<matplotlib.axis.YTick at 0x7fdbe8b268e0>,\n",
       "  <matplotlib.axis.YTick at 0x7fdbe8b26280>,\n",
       "  <matplotlib.axis.YTick at 0x7fdbe8b1b6a0>,\n",
       "  <matplotlib.axis.YTick at 0x7fdb98974df0>,\n",
       "  <matplotlib.axis.YTick at 0x7fdb9897b520>,\n",
       "  <matplotlib.axis.YTick at 0x7fdb9897bfd0>],\n",
       " [Text(0, 0, 'anger'),\n",
       "  Text(0, 1, 'fear'),\n",
       "  Text(0, 2, 'joy'),\n",
       "  Text(0, 3, 'love'),\n",
       "  Text(0, 4, 'sadness'),\n",
       "  Text(0, 5, 'surprise')])"
      ]
     },
     "execution_count": 6,
     "metadata": {},
     "output_type": "execute_result"
    },
    {
     "data": {
      "image/png": "[encoded data removed]",
      "text/plain": [
       "<Figure size 600x600 with 2 Axes>"
      ]
     },
     "metadata": {},
     "output_type": "display_data"
    }
   ],
   "source": [
    "# plot confustion matrix\n",
    "from sklearn.metrics import confusion_matrix\n",
    "import seaborn as sns\n",
    "import matplotlib.pyplot as plt\n",
    "\n",
    "confusion_matrix = confusion_matrix(df[\"completion\"], df[\"finetuned-completion\"])\n",
    "\n",
    "# plot confusion matrix\n",
    "plt.figure(figsize=(6, 6))\n",
    "sns.heatmap(confusion_matrix, annot=True, fmt=\".0f\", linewidths=0.5, square=True, cmap=\"Blues_r\")\n",
    "\n",
    "# add emotion labels to confusion matrix\n",
    "plt.ylabel(\"Actual label\")\n",
    "plt.xlabel(\"Predicted label\")\n",
    "\n",
    "# annotate the confusion matrix with emotion labels\n",
    "tick_marks = [i for i in range(len(completion_map_string))]\n",
    "plt.xticks(tick_marks, list(completion_map_string.values()), rotation=\"vertical\")\n",
    "plt.yticks(tick_marks, list(completion_map_string.values()), rotation=\"horizontal\")"
   ]
  },
  {
   "cell_type": "code",
   "execution_count": 22,
   "metadata": {},
   "outputs": [
    {
     "data": {
      "image/png": "[encoded data removed]",
      "text/plain": [
       "<Figure size 640x480 with 1 Axes>"
      ]
     },
     "metadata": {},
     "output_type": "display_data"
    }
   ],
   "source": [
    "# use scikitlearn to calculate the accuracy score and other metrics like F1\n",
    "from sklearn.metrics import accuracy_score, f1_score, precision_score, recall_score\n",
    "\n",
    "gpt_3_acc = accuracy_score(df[\"completion\"], df[\"gpt3-completion\"])\n",
    "\n",
    "gpt_3_f1 = f1_score(df[\"completion\"], df[\"gpt3-completion\"], average=\"weighted\")\n",
    "\n",
    "gpt_3_precision = precision_score(df[\"completion\"], df[\"gpt3-completion\"], average=\"weighted\")\n",
    "\n",
    "gpt_3_recall = recall_score(df[\"completion\"], df[\"gpt3-completion\"], average=\"weighted\")\n",
    "\n",
    "finetuned_acc = accuracy_score(df[\"completion\"], df[\"finetuned-completion\"])\n",
    "\n",
    "finetuned_f1 = f1_score(df[\"completion\"], df[\"finetuned-completion\"], average=\"weighted\")\n",
    "\n",
    "finetuned_precision = precision_score(df[\"completion\"], df[\"finetuned-completion\"], average=\"weighted\")\n",
    "\n",
    "finetuned_recall = recall_score(df[\"completion\"], df[\"finetuned-completion\"], average=\"weighted\")\n",
    "\n",
    "\n",
    "# plot the accuracy, F1, precision, and recall scores in a bar chart\n",
    "import matplotlib.pyplot as plt\n",
    "\n",
    "# set width of bar\n",
    "barWidth = 0.50\n",
    "\n",
    "# set height of bar\n",
    "bars1 = [gpt_3_acc, gpt_3_f1, gpt_3_precision, gpt_3_recall]\n",
    "\n",
    "bars2 = [finetuned_acc, finetuned_f1, finetuned_precision, finetuned_recall]\n",
    "\n",
    "# Set position of bar on X axis\n",
    "r1 = [1, 5, 9, 13]\n",
    "r2 = [2, 6, 10, 14]\n",
    "\n",
    "# Make the plot\n",
    "plt.bar(r1, bars1, color=\"#7f6d5f\", width=barWidth, edgecolor=\"white\", label=\"GPT-3-zero-shot\")\n",
    "plt.bar(r2, bars2, color=\"#557f2d\", width=barWidth, edgecolor=\"white\", label=\"FT\")\n",
    "\n",
    "# Add xticks on the middle of the group bars, make sure to correct the xticks\n",
    "plt.xlabel(\"Metric\", fontweight=\"bold\")\n",
    "\n",
    "# use r1 and r2 positions to set the xticks\n",
    "plt.xticks([r1[r] + barWidth for r in range(len(bars1))], [\"Accuracy\", \"F1\", \"Precision\", \"Recall\"])\n",
    "\n",
    "\n",
    "# Create legend & Show graphic\n",
    "plt.legend()\n",
    "plt.show()\n"
   ]
  },
  {
   "cell_type": "code",
   "execution_count": 23,
   "metadata": {},
   "outputs": [
    {
     "data": {
      "text/plain": [
       "(0.475, 0.4748244342539883, 0.5747393925518925, 0.475)"
      ]
     },
     "execution_count": 23,
     "metadata": {},
     "output_type": "execute_result"
    }
   ],
   "source": [
    "gpt_3_acc, gpt_3_f1, gpt_3_precision, gpt_3_recall"
   ]
  },
  {
   "cell_type": "code",
   "execution_count": 24,
   "metadata": {},
   "outputs": [
    {
     "data": {
      "text/plain": [
       "(0.8166666666666667,\n",
       " 0.8134349446849447,\n",
       " 0.8284105085735521,\n",
       " 0.8166666666666667)"
      ]
     },
     "execution_count": 24,
     "metadata": {},
     "output_type": "execute_result"
    }
   ],
   "source": [
    "finetuned_acc, finetuned_f1, finetuned_precision, finetuned_recall"
   ]
  }
 ],
 "metadata": {
  "kernelspec": {
   "display_name": "langchain",
   "language": "python",
   "name": "python3"
  },
  "language_info": {
   "codemirror_mode": {
    "name": "ipython",
    "version": 3
   },
   "file_extension": ".py",
   "mimetype": "text/x-python",
   "name": "python",
   "nbconvert_exporter": "python",
   "pygments_lexer": "ipython3",
   "version": "3.9.16"
  },
  "orig_nbformat": 4
 },
 "nbformat": 4,
 "nbformat_minor": 2
}
